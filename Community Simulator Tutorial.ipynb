{
 "cells": [
  {
   "cell_type": "markdown",
   "metadata": {},
   "source": [
    "This notebook illustrates the main features of the Community Simulator package. "
   ]
  },
  {
   "cell_type": "markdown",
   "metadata": {},
   "source": [
    "# The Model"
   ]
  },
  {
   "cell_type": "markdown",
   "metadata": {},
   "source": [
    "The Community Simulator is an open-ended platform, which can incorporate any ODE model based on concentrations of consumers and resources. The module comes with a built-in script for constructing variants of the MacArthur Consumer Resource Model (CRM), allowing for crossfeeding, metabolic regulation, and type I, II and III response functions. The full description of the range of modeling capabilities will be described in the documentation accompanying a future release. In this notebook, we will focus on the MacArthur CRM with type I response and independent metabolic fluxes. At the end, we will also briefly introduce the crossfeeding term.\n",
    "\n",
    "In the MacArthur CRM with resource regeneration turned off (in order to model batch culture), the populations $N_i$ of $S$ distinct species and the concentrations $R_\\alpha$ of $M$ distinct resources evolve according to the following ODE's:\n",
    "\n",
    "\\begin{align}\n",
    "\\frac{dN_i}{dt} &= N_i g_i\\left[ \\sum_\\beta c_{i\\beta}w_\\beta R_\\beta - m_i\\right]\\\\\n",
    "\\frac{dR_\\alpha}{dt} &= - R_\\alpha\\sum_j c_{j\\alpha}N_j.\n",
    "\\end{align}\n",
    "\n",
    "For now, we will measure resource concentrations in units of biomass equivalent, so that $w_\\alpha = 1$. The remaining parameters $c_{i\\alpha}$ and $m_i$ will be explained in the following sections."
   ]
  },
  {
   "cell_type": "markdown",
   "metadata": {},
   "source": [
    "The functions `MakeResourceDynamics` and `MakeConsumerDynamics` in the `usertools` submodule construct the right-hand sides of these equations as functions of the $N_i$ and $R_\\alpha$ vectors. The keyword arguments specify the modeling assumptions concerning response type, regulation, and replenishment of resources:"
   ]
  },
  {
   "cell_type": "code",
   "execution_count": 7,
   "metadata": {
    "collapsed": true
   },
   "outputs": [],
   "source": [
    "from community_simulator.usertools import MakeConsumerDynamics,MakeResourceDynamics\n",
    "\n",
    "assumptions = {'response':'type I','regulation':'independent','replenishment':'off'}\n",
    "\n",
    "def dNdt(N,R,params):\n",
    "    return MakeConsumerDynamics(**assumptions)(N,R,params)\n",
    "def dRdt(N,R,params):\n",
    "    return MakeResourceDynamics(**assumptions)(N,R,params)"
   ]
  },
  {
   "cell_type": "markdown",
   "metadata": {},
   "source": [
    "## Load parameters from Excel"
   ]
  },
  {
   "cell_type": "markdown",
   "metadata": {},
   "source": [
    "Community Simulator is designed to work with Pandas, a powerful data science module that comes pre-installed with the Anaconda Python distribution. We can use Pandas to load in the parameters for our simulation from a Microsoft Excel spreadsheet. "
   ]
  },
  {
   "cell_type": "markdown",
   "metadata": {},
   "source": [
    "The Pandas syntax is very straightforward: you just feed the `read_excel` function the filename of the spreadsheet, and (if there are multiple sheets in the workbook) the name of the sheet you want to load. The workbook `test_data.xlsx` included with this distribution contains six sheets, with all the information required to run a simple experiment."
   ]
  },
  {
   "cell_type": "markdown",
   "metadata": {},
   "source": [
    "## Consumption Matrix"
   ]
  },
  {
   "cell_type": "markdown",
   "metadata": {},
   "source": [
    "Let's start by loading the consumption matrix $c_{i\\alpha}$, which is the heart of the MacArthur Consumer Resource Model (CRM) and all its variants:"
   ]
  },
  {
   "cell_type": "code",
   "execution_count": 8,
   "metadata": {},
   "outputs": [
    {
     "data": {
      "text/html": [
       "<div>\n",
       "<style scoped>\n",
       "    .dataframe tbody tr th:only-of-type {\n",
       "        vertical-align: middle;\n",
       "    }\n",
       "\n",
       "    .dataframe tbody tr th {\n",
       "        vertical-align: top;\n",
       "    }\n",
       "\n",
       "    .dataframe thead th {\n",
       "        text-align: right;\n",
       "    }\n",
       "</style>\n",
       "<table border=\"1\" class=\"dataframe\">\n",
       "  <thead>\n",
       "    <tr style=\"text-align: right;\">\n",
       "      <th></th>\n",
       "      <th>Glutamine</th>\n",
       "      <th>Citrate</th>\n",
       "      <th>R2</th>\n",
       "      <th>R3</th>\n",
       "      <th>R4</th>\n",
       "      <th>R5</th>\n",
       "      <th>R6</th>\n",
       "      <th>R7</th>\n",
       "      <th>R8</th>\n",
       "    </tr>\n",
       "  </thead>\n",
       "  <tbody>\n",
       "    <tr>\n",
       "      <th>Enterobacter</th>\n",
       "      <td>1.000</td>\n",
       "      <td>0.001</td>\n",
       "      <td>0.01</td>\n",
       "      <td>0.01</td>\n",
       "      <td>0.01</td>\n",
       "      <td>0.01</td>\n",
       "      <td>0.01</td>\n",
       "      <td>0.01</td>\n",
       "      <td>0.01</td>\n",
       "    </tr>\n",
       "    <tr>\n",
       "      <th>Pseudomonas</th>\n",
       "      <td>0.001</td>\n",
       "      <td>0.990</td>\n",
       "      <td>0.01</td>\n",
       "      <td>0.01</td>\n",
       "      <td>0.01</td>\n",
       "      <td>0.01</td>\n",
       "      <td>0.01</td>\n",
       "      <td>0.01</td>\n",
       "      <td>0.01</td>\n",
       "    </tr>\n",
       "    <tr>\n",
       "      <th>Flavobacter</th>\n",
       "      <td>0.480</td>\n",
       "      <td>0.490</td>\n",
       "      <td>0.01</td>\n",
       "      <td>0.01</td>\n",
       "      <td>0.01</td>\n",
       "      <td>0.01</td>\n",
       "      <td>0.01</td>\n",
       "      <td>0.01</td>\n",
       "      <td>0.01</td>\n",
       "    </tr>\n",
       "    <tr>\n",
       "      <th>Enterococca</th>\n",
       "      <td>0.490</td>\n",
       "      <td>0.480</td>\n",
       "      <td>0.01</td>\n",
       "      <td>0.01</td>\n",
       "      <td>0.01</td>\n",
       "      <td>0.01</td>\n",
       "      <td>0.01</td>\n",
       "      <td>0.01</td>\n",
       "      <td>0.01</td>\n",
       "    </tr>\n",
       "  </tbody>\n",
       "</table>\n",
       "</div>"
      ],
      "text/plain": [
       "              Glutamine  Citrate    R2    R3    R4    R5    R6    R7    R8\n",
       "Enterobacter      1.000    0.001  0.01  0.01  0.01  0.01  0.01  0.01  0.01\n",
       "Pseudomonas       0.001    0.990  0.01  0.01  0.01  0.01  0.01  0.01  0.01\n",
       "Flavobacter       0.480    0.490  0.01  0.01  0.01  0.01  0.01  0.01  0.01\n",
       "Enterococca       0.490    0.480  0.01  0.01  0.01  0.01  0.01  0.01  0.01"
      ]
     },
     "execution_count": 8,
     "metadata": {},
     "output_type": "execute_result"
    }
   ],
   "source": [
    "import pandas as pd\n",
    "c = pd.read_excel('data/test_data.xlsx',sheet_name='Consumption')\n",
    "c"
   ]
  },
  {
   "cell_type": "markdown",
   "metadata": {},
   "source": [
    "This matrix specifies the per capita consumption rate of each nutrient for each species. The vector of consumption rates is what defines a species for the purposes of the model. I have given the two primary carbon sources realistic names, and also supplied a low level of six \"unknown\" resources. (Note: These are not meant to be the actual consumption vectors for the four bacterial strains listed here; the only purpose of the names is to make clear that each row represents a distinct strain.)"
   ]
  },
  {
   "cell_type": "markdown",
   "metadata": {},
   "source": [
    "## Cost Vector"
   ]
  },
  {
   "cell_type": "markdown",
   "metadata": {},
   "source": [
    "The MacArthur CRM contains another important set of parameters, which are the minimal consumption rates $m_i$ required for survival. For this example, we will set all of them to be equal:"
   ]
  },
  {
   "cell_type": "code",
   "execution_count": 9,
   "metadata": {},
   "outputs": [
    {
     "data": {
      "text/html": [
       "<div>\n",
       "<style scoped>\n",
       "    .dataframe tbody tr th:only-of-type {\n",
       "        vertical-align: middle;\n",
       "    }\n",
       "\n",
       "    .dataframe tbody tr th {\n",
       "        vertical-align: top;\n",
       "    }\n",
       "\n",
       "    .dataframe thead th {\n",
       "        text-align: right;\n",
       "    }\n",
       "</style>\n",
       "<table border=\"1\" class=\"dataframe\">\n",
       "  <thead>\n",
       "    <tr style=\"text-align: right;\">\n",
       "      <th></th>\n",
       "      <th>Cost</th>\n",
       "    </tr>\n",
       "  </thead>\n",
       "  <tbody>\n",
       "    <tr>\n",
       "      <th>Enterobacter</th>\n",
       "      <td>0.001</td>\n",
       "    </tr>\n",
       "    <tr>\n",
       "      <th>Pseudomonas</th>\n",
       "      <td>0.001</td>\n",
       "    </tr>\n",
       "    <tr>\n",
       "      <th>Flavobacter</th>\n",
       "      <td>0.001</td>\n",
       "    </tr>\n",
       "    <tr>\n",
       "      <th>Enterococca</th>\n",
       "      <td>0.001</td>\n",
       "    </tr>\n",
       "  </tbody>\n",
       "</table>\n",
       "</div>"
      ],
      "text/plain": [
       "               Cost\n",
       "Enterobacter  0.001\n",
       "Pseudomonas   0.001\n",
       "Flavobacter   0.001\n",
       "Enterococca   0.001"
      ]
     },
     "execution_count": 9,
     "metadata": {},
     "output_type": "execute_result"
    }
   ],
   "source": [
    "import pandas as pd\n",
    "m = pd.read_excel('data/test_data.xlsx',sheet_name='Cost')\n",
    "m"
   ]
  },
  {
   "cell_type": "markdown",
   "metadata": {},
   "source": [
    "## Initial Conditions"
   ]
  },
  {
   "cell_type": "markdown",
   "metadata": {},
   "source": [
    "Now let's set the initial cell densities $N_i(0)$ in each wells of our example four-well plate:"
   ]
  },
  {
   "cell_type": "code",
   "execution_count": 10,
   "metadata": {},
   "outputs": [
    {
     "data": {
      "text/html": [
       "<div>\n",
       "<style scoped>\n",
       "    .dataframe tbody tr th:only-of-type {\n",
       "        vertical-align: middle;\n",
       "    }\n",
       "\n",
       "    .dataframe tbody tr th {\n",
       "        vertical-align: top;\n",
       "    }\n",
       "\n",
       "    .dataframe thead th {\n",
       "        text-align: right;\n",
       "    }\n",
       "</style>\n",
       "<table border=\"1\" class=\"dataframe\">\n",
       "  <thead>\n",
       "    <tr style=\"text-align: right;\">\n",
       "      <th></th>\n",
       "      <th>well1</th>\n",
       "      <th>well2</th>\n",
       "      <th>well3</th>\n",
       "      <th>well4</th>\n",
       "    </tr>\n",
       "  </thead>\n",
       "  <tbody>\n",
       "    <tr>\n",
       "      <th>Enterobacter</th>\n",
       "      <td>1</td>\n",
       "      <td>0</td>\n",
       "      <td>1</td>\n",
       "      <td>0</td>\n",
       "    </tr>\n",
       "    <tr>\n",
       "      <th>Pseudomonas</th>\n",
       "      <td>1</td>\n",
       "      <td>0</td>\n",
       "      <td>0</td>\n",
       "      <td>0</td>\n",
       "    </tr>\n",
       "    <tr>\n",
       "      <th>Flavobacter</th>\n",
       "      <td>0</td>\n",
       "      <td>1</td>\n",
       "      <td>0</td>\n",
       "      <td>0</td>\n",
       "    </tr>\n",
       "    <tr>\n",
       "      <th>Enterococca</th>\n",
       "      <td>0</td>\n",
       "      <td>1</td>\n",
       "      <td>0</td>\n",
       "      <td>0</td>\n",
       "    </tr>\n",
       "  </tbody>\n",
       "</table>\n",
       "</div>"
      ],
      "text/plain": [
       "              well1  well2  well3  well4\n",
       "Enterobacter      1      0      1      0\n",
       "Pseudomonas       1      0      0      0\n",
       "Flavobacter       0      1      0      0\n",
       "Enterococca       0      1      0      0"
      ]
     },
     "execution_count": 10,
     "metadata": {},
     "output_type": "execute_result"
    }
   ],
   "source": [
    "N0 = pd.read_excel('data/test_data.xlsx',sheet_name='Populations')\n",
    "N0"
   ]
  },
  {
   "cell_type": "markdown",
   "metadata": {},
   "source": [
    "I have kept one well empty for doing a coalescence experiment later on, and one well contains the \"champion\" from well1. When we perform serial dilution experiments later on, the absolute numbers of individuals will be important. By default, the density is measured in units of $10^9$ cells/well. \n",
    "\n",
    "Another sheet lists the initial concentrations of nutrients $R_\\alpha(0)$ in each well:"
   ]
  },
  {
   "cell_type": "code",
   "execution_count": 11,
   "metadata": {},
   "outputs": [
    {
     "data": {
      "text/html": [
       "<div>\n",
       "<style scoped>\n",
       "    .dataframe tbody tr th:only-of-type {\n",
       "        vertical-align: middle;\n",
       "    }\n",
       "\n",
       "    .dataframe tbody tr th {\n",
       "        vertical-align: top;\n",
       "    }\n",
       "\n",
       "    .dataframe thead th {\n",
       "        text-align: right;\n",
       "    }\n",
       "</style>\n",
       "<table border=\"1\" class=\"dataframe\">\n",
       "  <thead>\n",
       "    <tr style=\"text-align: right;\">\n",
       "      <th></th>\n",
       "      <th>well1</th>\n",
       "      <th>well2</th>\n",
       "      <th>well3</th>\n",
       "      <th>well4</th>\n",
       "    </tr>\n",
       "  </thead>\n",
       "  <tbody>\n",
       "    <tr>\n",
       "      <th>Glutamine</th>\n",
       "      <td>1.0000</td>\n",
       "      <td>1.0000</td>\n",
       "      <td>1.0000</td>\n",
       "      <td>1.0000</td>\n",
       "    </tr>\n",
       "    <tr>\n",
       "      <th>Citrate</th>\n",
       "      <td>1.0000</td>\n",
       "      <td>1.0000</td>\n",
       "      <td>1.0000</td>\n",
       "      <td>1.0000</td>\n",
       "    </tr>\n",
       "    <tr>\n",
       "      <th>R2</th>\n",
       "      <td>0.0001</td>\n",
       "      <td>0.0001</td>\n",
       "      <td>0.0001</td>\n",
       "      <td>0.0001</td>\n",
       "    </tr>\n",
       "    <tr>\n",
       "      <th>R3</th>\n",
       "      <td>0.0001</td>\n",
       "      <td>0.0001</td>\n",
       "      <td>0.0001</td>\n",
       "      <td>0.0001</td>\n",
       "    </tr>\n",
       "    <tr>\n",
       "      <th>R4</th>\n",
       "      <td>0.0001</td>\n",
       "      <td>0.0001</td>\n",
       "      <td>0.0001</td>\n",
       "      <td>0.0001</td>\n",
       "    </tr>\n",
       "    <tr>\n",
       "      <th>R5</th>\n",
       "      <td>0.0001</td>\n",
       "      <td>0.0001</td>\n",
       "      <td>0.0001</td>\n",
       "      <td>0.0001</td>\n",
       "    </tr>\n",
       "    <tr>\n",
       "      <th>R6</th>\n",
       "      <td>0.0001</td>\n",
       "      <td>0.0001</td>\n",
       "      <td>0.0001</td>\n",
       "      <td>0.0001</td>\n",
       "    </tr>\n",
       "    <tr>\n",
       "      <th>R7</th>\n",
       "      <td>0.0001</td>\n",
       "      <td>0.0001</td>\n",
       "      <td>0.0001</td>\n",
       "      <td>0.0001</td>\n",
       "    </tr>\n",
       "    <tr>\n",
       "      <th>R8</th>\n",
       "      <td>0.0001</td>\n",
       "      <td>0.0001</td>\n",
       "      <td>0.0001</td>\n",
       "      <td>0.0001</td>\n",
       "    </tr>\n",
       "  </tbody>\n",
       "</table>\n",
       "</div>"
      ],
      "text/plain": [
       "            well1   well2   well3   well4\n",
       "Glutamine  1.0000  1.0000  1.0000  1.0000\n",
       "Citrate    1.0000  1.0000  1.0000  1.0000\n",
       "R2         0.0001  0.0001  0.0001  0.0001\n",
       "R3         0.0001  0.0001  0.0001  0.0001\n",
       "R4         0.0001  0.0001  0.0001  0.0001\n",
       "R5         0.0001  0.0001  0.0001  0.0001\n",
       "R6         0.0001  0.0001  0.0001  0.0001\n",
       "R7         0.0001  0.0001  0.0001  0.0001\n",
       "R8         0.0001  0.0001  0.0001  0.0001"
      ]
     },
     "execution_count": 11,
     "metadata": {},
     "output_type": "execute_result"
    }
   ],
   "source": [
    "R0 = pd.read_excel('data/test_data.xlsx',sheet_name='Resources')\n",
    "R0"
   ]
  },
  {
   "cell_type": "markdown",
   "metadata": {},
   "source": [
    "These concentrations will be supplied to these wells every time we passage the cells. "
   ]
  },
  {
   "cell_type": "markdown",
   "metadata": {},
   "source": [
    "## Protocol"
   ]
  },
  {
   "cell_type": "markdown",
   "metadata": {},
   "source": [
    "The feature that really makes this Community Simulator package unique is the built-in passaging functionality. The Passage method takes as an argument a matrix $f$ like this one:"
   ]
  },
  {
   "cell_type": "code",
   "execution_count": 12,
   "metadata": {},
   "outputs": [
    {
     "data": {
      "text/html": [
       "<div>\n",
       "<style scoped>\n",
       "    .dataframe tbody tr th:only-of-type {\n",
       "        vertical-align: middle;\n",
       "    }\n",
       "\n",
       "    .dataframe tbody tr th {\n",
       "        vertical-align: top;\n",
       "    }\n",
       "\n",
       "    .dataframe thead th {\n",
       "        text-align: right;\n",
       "    }\n",
       "</style>\n",
       "<table border=\"1\" class=\"dataframe\">\n",
       "  <thead>\n",
       "    <tr style=\"text-align: right;\">\n",
       "      <th></th>\n",
       "      <th>well1</th>\n",
       "      <th>well2</th>\n",
       "      <th>well3</th>\n",
       "      <th>well4</th>\n",
       "    </tr>\n",
       "  </thead>\n",
       "  <tbody>\n",
       "    <tr>\n",
       "      <th>well1 new</th>\n",
       "      <td>0.001</td>\n",
       "      <td>0.000</td>\n",
       "      <td>0.000</td>\n",
       "      <td>0.000</td>\n",
       "    </tr>\n",
       "    <tr>\n",
       "      <th>well2 new</th>\n",
       "      <td>0.000</td>\n",
       "      <td>0.001</td>\n",
       "      <td>0.000</td>\n",
       "      <td>0.000</td>\n",
       "    </tr>\n",
       "    <tr>\n",
       "      <th>well3 new</th>\n",
       "      <td>0.000</td>\n",
       "      <td>0.000</td>\n",
       "      <td>0.001</td>\n",
       "      <td>0.000</td>\n",
       "    </tr>\n",
       "    <tr>\n",
       "      <th>well4 new</th>\n",
       "      <td>0.000</td>\n",
       "      <td>0.000</td>\n",
       "      <td>0.000</td>\n",
       "      <td>0.001</td>\n",
       "    </tr>\n",
       "  </tbody>\n",
       "</table>\n",
       "</div>"
      ],
      "text/plain": [
       "           well1  well2  well3  well4\n",
       "well1 new  0.001  0.000  0.000  0.000\n",
       "well2 new  0.000  0.001  0.000  0.000\n",
       "well3 new  0.000  0.000  0.001  0.000\n",
       "well4 new  0.000  0.000  0.000  0.001"
      ]
     },
     "execution_count": 12,
     "metadata": {},
     "output_type": "execute_result"
    }
   ],
   "source": [
    "f_dilute = pd.read_excel('data/test_data.xlsx',sheet_name='Dilute')\n",
    "f_dilute"
   ]
  },
  {
   "cell_type": "markdown",
   "metadata": {},
   "source": [
    "The matrix specifies what fraction of each well should be loaded into each of the fresh wells. This is where the absolute number of cells in each well becomes important, because the program always loads an integer number of cells of each species into the new wells, choosing these numbers by multinomial sampling.\n",
    "\n",
    "This particular matrix is a simple dilution protocol, taking 0.1% of each well and loading it into the corresponding well on the new plate. But we can also make more complicated protocols, like this one for performing a coalescence experiment: "
   ]
  },
  {
   "cell_type": "code",
   "execution_count": 13,
   "metadata": {},
   "outputs": [
    {
     "data": {
      "text/html": [
       "<div>\n",
       "<style scoped>\n",
       "    .dataframe tbody tr th:only-of-type {\n",
       "        vertical-align: middle;\n",
       "    }\n",
       "\n",
       "    .dataframe tbody tr th {\n",
       "        vertical-align: top;\n",
       "    }\n",
       "\n",
       "    .dataframe thead th {\n",
       "        text-align: right;\n",
       "    }\n",
       "</style>\n",
       "<table border=\"1\" class=\"dataframe\">\n",
       "  <thead>\n",
       "    <tr style=\"text-align: right;\">\n",
       "      <th></th>\n",
       "      <th>well1</th>\n",
       "      <th>well2</th>\n",
       "      <th>well3</th>\n",
       "      <th>well4</th>\n",
       "    </tr>\n",
       "  </thead>\n",
       "  <tbody>\n",
       "    <tr>\n",
       "      <th>well1 new</th>\n",
       "      <td>0.001</td>\n",
       "      <td>0.000</td>\n",
       "      <td>0.000</td>\n",
       "      <td>0</td>\n",
       "    </tr>\n",
       "    <tr>\n",
       "      <th>well2 new</th>\n",
       "      <td>0.000</td>\n",
       "      <td>0.001</td>\n",
       "      <td>0.000</td>\n",
       "      <td>0</td>\n",
       "    </tr>\n",
       "    <tr>\n",
       "      <th>well3 new</th>\n",
       "      <td>0.001</td>\n",
       "      <td>0.001</td>\n",
       "      <td>0.000</td>\n",
       "      <td>0</td>\n",
       "    </tr>\n",
       "    <tr>\n",
       "      <th>well4 new</th>\n",
       "      <td>0.000</td>\n",
       "      <td>0.001</td>\n",
       "      <td>0.001</td>\n",
       "      <td>0</td>\n",
       "    </tr>\n",
       "  </tbody>\n",
       "</table>\n",
       "</div>"
      ],
      "text/plain": [
       "           well1  well2  well3  well4\n",
       "well1 new  0.001  0.000  0.000      0\n",
       "well2 new  0.000  0.001  0.000      0\n",
       "well3 new  0.001  0.001  0.000      0\n",
       "well4 new  0.000  0.001  0.001      0"
      ]
     },
     "execution_count": 13,
     "metadata": {},
     "output_type": "execute_result"
    }
   ],
   "source": [
    "f_mix = pd.read_excel('data/test_data.xlsx',sheet_name='Mix')\n",
    "f_mix"
   ]
  },
  {
   "cell_type": "markdown",
   "metadata": {},
   "source": [
    "This performs a standard dilution in wells 1 and 2, but then mixes the contents of wells 1 and 2 in well 3, and mixes the \"champion\" of well1 with the well2 community in well4. We can also build matrices to simulate diffusion, mixing each well with its neighbors at each step. "
   ]
  },
  {
   "cell_type": "markdown",
   "metadata": {},
   "source": [
    "# The Community Class"
   ]
  },
  {
   "cell_type": "markdown",
   "metadata": {},
   "source": [
    "With all these variables loaded, we can now create an instance of the \"Community\" class. This instance will contain the current population levels and resource concentrations in each well, and also holds the equations and the parameters that define the model. "
   ]
  },
  {
   "cell_type": "code",
   "execution_count": 14,
   "metadata": {
    "collapsed": true
   },
   "outputs": [],
   "source": [
    "from community_simulator import Community\n",
    "import numpy as np\n",
    "from community_simulator.usertools import MakeConsumerDynamics,MakeResourceDynamics\n",
    "import pandas as pd\n",
    "\n",
    "init_state = [pd.read_excel('data/test_data.xlsx',sheet_name='Populations'),\n",
    "              pd.read_excel('data/test_data.xlsx',sheet_name='Resources')]\n",
    "\n",
    "assumptions = {'regulation':'independent','replenishment':'off','response':'type I'}\n",
    "def dNdt(N,R,params):\n",
    "    return MakeConsumerDynamics(**assumptions)(N,R,params)\n",
    "def dRdt(N,R,params):\n",
    "    return MakeResourceDynamics(**assumptions)(N,R,params)\n",
    "dynamics = [dNdt,dRdt]\n",
    "\n",
    "params={'c':pd.read_excel('data/test_data.xlsx',sheet_name='Consumption'),\n",
    "        'm':pd.read_excel('data/test_data.xlsx',sheet_name='Cost'),\n",
    "        'w':np.ones(len(init_state[1])),\n",
    "        'g':np.ones(len(init_state[0]))\n",
    "       }\n",
    "\n",
    "\n",
    "MyPlate = Community(init_state,dynamics,params,scale=10**9)"
   ]
  },
  {
   "cell_type": "markdown",
   "metadata": {},
   "source": [
    "\"Community\" takes three mandatory arguments for initialization: the initial state, the dynamics, and the parameters. There is also an option for adjusting the units of $N_i$, which are set by default to $10^9$/well.\n",
    "\n",
    "We can test whether things are working by following the population of a single well over time:"
   ]
  },
  {
   "cell_type": "code",
   "execution_count": 15,
   "metadata": {},
   "outputs": [
    {
     "data": {
      "image/png": "[encoded data removed]",
      "text/plain": [
       "<matplotlib.figure.Figure at 0x114fdc8d0>"
      ]
     },
     "metadata": {},
     "output_type": "display_data"
    }
   ],
   "source": [
    "t, Ntraj, Rtraj = MyPlate.TestWell(T=10)"
   ]
  },
  {
   "cell_type": "markdown",
   "metadata": {},
   "source": [
    "The basic methods of the `Community` class are `Propagate`, which simply runs the model for a fixed amount of time, and `Passage`, which passages the cells to a fresh plate following the protocol matrix $f$ that is passed as an argument."
   ]
  },
  {
   "cell_type": "code",
   "execution_count": 16,
   "metadata": {},
   "outputs": [
    {
     "data": {
      "text/html": [
       "<div>\n",
       "<style scoped>\n",
       "    .dataframe tbody tr th:only-of-type {\n",
       "        vertical-align: middle;\n",
       "    }\n",
       "\n",
       "    .dataframe tbody tr th {\n",
       "        vertical-align: top;\n",
       "    }\n",
       "\n",
       "    .dataframe thead th {\n",
       "        text-align: right;\n",
       "    }\n",
       "</style>\n",
       "<table border=\"1\" class=\"dataframe\">\n",
       "  <thead>\n",
       "    <tr style=\"text-align: right;\">\n",
       "      <th></th>\n",
       "      <th>well1</th>\n",
       "      <th>well2</th>\n",
       "      <th>well3</th>\n",
       "      <th>well4</th>\n",
       "    </tr>\n",
       "  </thead>\n",
       "  <tbody>\n",
       "    <tr>\n",
       "      <th>Enterobacter</th>\n",
       "      <td>0.001001</td>\n",
       "      <td>0.000000</td>\n",
       "      <td>0.001</td>\n",
       "      <td>0.0</td>\n",
       "    </tr>\n",
       "    <tr>\n",
       "      <th>Pseudomonas</th>\n",
       "      <td>0.000999</td>\n",
       "      <td>0.000000</td>\n",
       "      <td>0.000</td>\n",
       "      <td>0.0</td>\n",
       "    </tr>\n",
       "    <tr>\n",
       "      <th>Flavobacter</th>\n",
       "      <td>0.000000</td>\n",
       "      <td>0.001001</td>\n",
       "      <td>0.000</td>\n",
       "      <td>0.0</td>\n",
       "    </tr>\n",
       "    <tr>\n",
       "      <th>Enterococca</th>\n",
       "      <td>0.000000</td>\n",
       "      <td>0.000999</td>\n",
       "      <td>0.000</td>\n",
       "      <td>0.0</td>\n",
       "    </tr>\n",
       "  </tbody>\n",
       "</table>\n",
       "</div>"
      ],
      "text/plain": [
       "                 well1     well2  well3  well4\n",
       "Enterobacter  0.001001  0.000000  0.001    0.0\n",
       "Pseudomonas   0.000999  0.000000  0.000    0.0\n",
       "Flavobacter   0.000000  0.001001  0.000    0.0\n",
       "Enterococca   0.000000  0.000999  0.000    0.0"
      ]
     },
     "execution_count": 16,
     "metadata": {},
     "output_type": "execute_result"
    }
   ],
   "source": [
    "f_dilute = pd.read_excel('data/test_data.xlsx',sheet_name='Dilute')\n",
    "MyPlate.Passage(f_dilute)\n",
    "MyPlate.N"
   ]
  },
  {
   "cell_type": "markdown",
   "metadata": {},
   "source": [
    "We can automatically run $n$ serial dilutions using protocol $f$ at fixed time intervals $T$ using the `RunExperiment` method:"
   ]
  },
  {
   "cell_type": "code",
   "execution_count": 17,
   "metadata": {},
   "outputs": [
    {
     "data": {
      "text/html": [
       "<div>\n",
       "<style scoped>\n",
       "    .dataframe tbody tr th:only-of-type {\n",
       "        vertical-align: middle;\n",
       "    }\n",
       "\n",
       "    .dataframe tbody tr th {\n",
       "        vertical-align: top;\n",
       "    }\n",
       "\n",
       "    .dataframe thead th {\n",
       "        text-align: right;\n",
       "    }\n",
       "</style>\n",
       "<table border=\"1\" class=\"dataframe\">\n",
       "  <thead>\n",
       "    <tr style=\"text-align: right;\">\n",
       "      <th></th>\n",
       "      <th>well1</th>\n",
       "      <th>well2</th>\n",
       "      <th>well3</th>\n",
       "      <th>well4</th>\n",
       "    </tr>\n",
       "  </thead>\n",
       "  <tbody>\n",
       "    <tr>\n",
       "      <th>Enterobacter</th>\n",
       "      <td>0.952764</td>\n",
       "      <td>0.000000</td>\n",
       "      <td>0.956077</td>\n",
       "      <td>0.0</td>\n",
       "    </tr>\n",
       "    <tr>\n",
       "      <th>Pseudomonas</th>\n",
       "      <td>0.947956</td>\n",
       "      <td>0.000000</td>\n",
       "      <td>0.000000</td>\n",
       "      <td>0.0</td>\n",
       "    </tr>\n",
       "    <tr>\n",
       "      <th>Flavobacter</th>\n",
       "      <td>0.000000</td>\n",
       "      <td>0.936247</td>\n",
       "      <td>0.000000</td>\n",
       "      <td>0.0</td>\n",
       "    </tr>\n",
       "    <tr>\n",
       "      <th>Enterococca</th>\n",
       "      <td>0.000000</td>\n",
       "      <td>0.936775</td>\n",
       "      <td>0.000000</td>\n",
       "      <td>0.0</td>\n",
       "    </tr>\n",
       "  </tbody>\n",
       "</table>\n",
       "</div>"
      ],
      "text/plain": [
       "                 well1     well2     well3  well4\n",
       "Enterobacter  0.952764  0.000000  0.956077    0.0\n",
       "Pseudomonas   0.947956  0.000000  0.000000    0.0\n",
       "Flavobacter   0.000000  0.936247  0.000000    0.0\n",
       "Enterococca   0.000000  0.936775  0.000000    0.0"
      ]
     },
     "execution_count": 17,
     "metadata": {},
     "output_type": "execute_result"
    }
   ],
   "source": [
    "n = 10\n",
    "T = 10\n",
    "MyPlate.Propagate(T)\n",
    "Ntraj,Rtraj=MyPlate.RunExperiment(f_dilute,T,n)\n",
    "MyPlate.N"
   ]
  },
  {
   "cell_type": "markdown",
   "metadata": {},
   "source": [
    "Note that `RunExperiment` returns trajectory outputs `Ntraj` and `Rtraj`, which are multiindex dataframes:"
   ]
  },
  {
   "cell_type": "code",
   "execution_count": 18,
   "metadata": {},
   "outputs": [
    {
     "data": {
      "text/html": [
       "<div>\n",
       "<style scoped>\n",
       "    .dataframe tbody tr th:only-of-type {\n",
       "        vertical-align: middle;\n",
       "    }\n",
       "\n",
       "    .dataframe tbody tr th {\n",
       "        vertical-align: top;\n",
       "    }\n",
       "\n",
       "    .dataframe thead th {\n",
       "        text-align: right;\n",
       "    }\n",
       "</style>\n",
       "<table border=\"1\" class=\"dataframe\">\n",
       "  <thead>\n",
       "    <tr style=\"text-align: right;\">\n",
       "      <th></th>\n",
       "      <th></th>\n",
       "      <th>Enterobacter</th>\n",
       "      <th>Pseudomonas</th>\n",
       "      <th>Flavobacter</th>\n",
       "      <th>Enterococca</th>\n",
       "    </tr>\n",
       "    <tr>\n",
       "      <th>Time</th>\n",
       "      <th>Well</th>\n",
       "      <th></th>\n",
       "      <th></th>\n",
       "      <th></th>\n",
       "      <th></th>\n",
       "    </tr>\n",
       "  </thead>\n",
       "  <tbody>\n",
       "    <tr>\n",
       "      <th rowspan=\"4\" valign=\"top\">0</th>\n",
       "      <th>well1</th>\n",
       "      <td>0.956136</td>\n",
       "      <td>0.951668</td>\n",
       "      <td>0.000000</td>\n",
       "      <td>0.000000</td>\n",
       "    </tr>\n",
       "    <tr>\n",
       "      <th>well2</th>\n",
       "      <td>0.000000</td>\n",
       "      <td>0.000000</td>\n",
       "      <td>0.942092</td>\n",
       "      <td>0.940987</td>\n",
       "    </tr>\n",
       "    <tr>\n",
       "      <th>well3</th>\n",
       "      <td>0.959294</td>\n",
       "      <td>0.000000</td>\n",
       "      <td>0.000000</td>\n",
       "      <td>0.000000</td>\n",
       "    </tr>\n",
       "    <tr>\n",
       "      <th>well4</th>\n",
       "      <td>0.000000</td>\n",
       "      <td>0.000000</td>\n",
       "      <td>0.000000</td>\n",
       "      <td>0.000000</td>\n",
       "    </tr>\n",
       "    <tr>\n",
       "      <th rowspan=\"4\" valign=\"top\">10</th>\n",
       "      <th>well1</th>\n",
       "      <td>0.952954</td>\n",
       "      <td>0.948095</td>\n",
       "      <td>0.000000</td>\n",
       "      <td>0.000000</td>\n",
       "    </tr>\n",
       "    <tr>\n",
       "      <th>well2</th>\n",
       "      <td>0.000000</td>\n",
       "      <td>0.000000</td>\n",
       "      <td>0.936699</td>\n",
       "      <td>0.936933</td>\n",
       "    </tr>\n",
       "    <tr>\n",
       "      <th>well3</th>\n",
       "      <td>0.956223</td>\n",
       "      <td>0.000000</td>\n",
       "      <td>0.000000</td>\n",
       "      <td>0.000000</td>\n",
       "    </tr>\n",
       "    <tr>\n",
       "      <th>well4</th>\n",
       "      <td>0.000000</td>\n",
       "      <td>0.000000</td>\n",
       "      <td>0.000000</td>\n",
       "      <td>0.000000</td>\n",
       "    </tr>\n",
       "    <tr>\n",
       "      <th rowspan=\"4\" valign=\"top\">20</th>\n",
       "      <th>well1</th>\n",
       "      <td>0.952822</td>\n",
       "      <td>0.947908</td>\n",
       "      <td>0.000000</td>\n",
       "      <td>0.000000</td>\n",
       "    </tr>\n",
       "    <tr>\n",
       "      <th>well2</th>\n",
       "      <td>0.000000</td>\n",
       "      <td>0.000000</td>\n",
       "      <td>0.936546</td>\n",
       "      <td>0.936513</td>\n",
       "    </tr>\n",
       "    <tr>\n",
       "      <th>well3</th>\n",
       "      <td>0.956084</td>\n",
       "      <td>0.000000</td>\n",
       "      <td>0.000000</td>\n",
       "      <td>0.000000</td>\n",
       "    </tr>\n",
       "    <tr>\n",
       "      <th>well4</th>\n",
       "      <td>0.000000</td>\n",
       "      <td>0.000000</td>\n",
       "      <td>0.000000</td>\n",
       "      <td>0.000000</td>\n",
       "    </tr>\n",
       "    <tr>\n",
       "      <th rowspan=\"4\" valign=\"top\">30</th>\n",
       "      <th>well1</th>\n",
       "      <td>0.952824</td>\n",
       "      <td>0.947891</td>\n",
       "      <td>0.000000</td>\n",
       "      <td>0.000000</td>\n",
       "    </tr>\n",
       "    <tr>\n",
       "      <th>well2</th>\n",
       "      <td>0.000000</td>\n",
       "      <td>0.000000</td>\n",
       "      <td>0.936047</td>\n",
       "      <td>0.936977</td>\n",
       "    </tr>\n",
       "    <tr>\n",
       "      <th>well3</th>\n",
       "      <td>0.956077</td>\n",
       "      <td>0.000000</td>\n",
       "      <td>0.000000</td>\n",
       "      <td>0.000000</td>\n",
       "    </tr>\n",
       "    <tr>\n",
       "      <th>well4</th>\n",
       "      <td>0.000000</td>\n",
       "      <td>0.000000</td>\n",
       "      <td>0.000000</td>\n",
       "      <td>0.000000</td>\n",
       "    </tr>\n",
       "    <tr>\n",
       "      <th rowspan=\"4\" valign=\"top\">40</th>\n",
       "      <th>well1</th>\n",
       "      <td>0.952817</td>\n",
       "      <td>0.947898</td>\n",
       "      <td>0.000000</td>\n",
       "      <td>0.000000</td>\n",
       "    </tr>\n",
       "    <tr>\n",
       "      <th>well2</th>\n",
       "      <td>0.000000</td>\n",
       "      <td>0.000000</td>\n",
       "      <td>0.936064</td>\n",
       "      <td>0.936958</td>\n",
       "    </tr>\n",
       "    <tr>\n",
       "      <th>well3</th>\n",
       "      <td>0.956077</td>\n",
       "      <td>0.000000</td>\n",
       "      <td>0.000000</td>\n",
       "      <td>0.000000</td>\n",
       "    </tr>\n",
       "    <tr>\n",
       "      <th>well4</th>\n",
       "      <td>0.000000</td>\n",
       "      <td>0.000000</td>\n",
       "      <td>0.000000</td>\n",
       "      <td>0.000000</td>\n",
       "    </tr>\n",
       "    <tr>\n",
       "      <th rowspan=\"4\" valign=\"top\">50</th>\n",
       "      <th>well1</th>\n",
       "      <td>0.952794</td>\n",
       "      <td>0.947924</td>\n",
       "      <td>0.000000</td>\n",
       "      <td>0.000000</td>\n",
       "    </tr>\n",
       "    <tr>\n",
       "      <th>well2</th>\n",
       "      <td>0.000000</td>\n",
       "      <td>0.000000</td>\n",
       "      <td>0.936156</td>\n",
       "      <td>0.936866</td>\n",
       "    </tr>\n",
       "    <tr>\n",
       "      <th>well3</th>\n",
       "      <td>0.956077</td>\n",
       "      <td>0.000000</td>\n",
       "      <td>0.000000</td>\n",
       "      <td>0.000000</td>\n",
       "    </tr>\n",
       "    <tr>\n",
       "      <th>well4</th>\n",
       "      <td>0.000000</td>\n",
       "      <td>0.000000</td>\n",
       "      <td>0.000000</td>\n",
       "      <td>0.000000</td>\n",
       "    </tr>\n",
       "    <tr>\n",
       "      <th rowspan=\"4\" valign=\"top\">60</th>\n",
       "      <th>well1</th>\n",
       "      <td>0.952683</td>\n",
       "      <td>0.948045</td>\n",
       "      <td>0.000000</td>\n",
       "      <td>0.000000</td>\n",
       "    </tr>\n",
       "    <tr>\n",
       "      <th>well2</th>\n",
       "      <td>0.000000</td>\n",
       "      <td>0.000000</td>\n",
       "      <td>0.936345</td>\n",
       "      <td>0.936676</td>\n",
       "    </tr>\n",
       "    <tr>\n",
       "      <th>well3</th>\n",
       "      <td>0.956077</td>\n",
       "      <td>0.000000</td>\n",
       "      <td>0.000000</td>\n",
       "      <td>0.000000</td>\n",
       "    </tr>\n",
       "    <tr>\n",
       "      <th>well4</th>\n",
       "      <td>0.000000</td>\n",
       "      <td>0.000000</td>\n",
       "      <td>0.000000</td>\n",
       "      <td>0.000000</td>\n",
       "    </tr>\n",
       "    <tr>\n",
       "      <th rowspan=\"4\" valign=\"top\">70</th>\n",
       "      <th>well1</th>\n",
       "      <td>0.952761</td>\n",
       "      <td>0.947960</td>\n",
       "      <td>0.000000</td>\n",
       "      <td>0.000000</td>\n",
       "    </tr>\n",
       "    <tr>\n",
       "      <th>well2</th>\n",
       "      <td>0.000000</td>\n",
       "      <td>0.000000</td>\n",
       "      <td>0.936452</td>\n",
       "      <td>0.936569</td>\n",
       "    </tr>\n",
       "    <tr>\n",
       "      <th>well3</th>\n",
       "      <td>0.956077</td>\n",
       "      <td>0.000000</td>\n",
       "      <td>0.000000</td>\n",
       "      <td>0.000000</td>\n",
       "    </tr>\n",
       "    <tr>\n",
       "      <th>well4</th>\n",
       "      <td>0.000000</td>\n",
       "      <td>0.000000</td>\n",
       "      <td>0.000000</td>\n",
       "      <td>0.000000</td>\n",
       "    </tr>\n",
       "    <tr>\n",
       "      <th rowspan=\"4\" valign=\"top\">80</th>\n",
       "      <th>well1</th>\n",
       "      <td>0.952790</td>\n",
       "      <td>0.947928</td>\n",
       "      <td>0.000000</td>\n",
       "      <td>0.000000</td>\n",
       "    </tr>\n",
       "    <tr>\n",
       "      <th>well2</th>\n",
       "      <td>0.000000</td>\n",
       "      <td>0.000000</td>\n",
       "      <td>0.936916</td>\n",
       "      <td>0.936106</td>\n",
       "    </tr>\n",
       "    <tr>\n",
       "      <th>well3</th>\n",
       "      <td>0.956077</td>\n",
       "      <td>0.000000</td>\n",
       "      <td>0.000000</td>\n",
       "      <td>0.000000</td>\n",
       "    </tr>\n",
       "    <tr>\n",
       "      <th>well4</th>\n",
       "      <td>0.000000</td>\n",
       "      <td>0.000000</td>\n",
       "      <td>0.000000</td>\n",
       "      <td>0.000000</td>\n",
       "    </tr>\n",
       "    <tr>\n",
       "      <th rowspan=\"4\" valign=\"top\">90</th>\n",
       "      <th>well1</th>\n",
       "      <td>0.952785</td>\n",
       "      <td>0.947933</td>\n",
       "      <td>0.000000</td>\n",
       "      <td>0.000000</td>\n",
       "    </tr>\n",
       "    <tr>\n",
       "      <th>well2</th>\n",
       "      <td>0.000000</td>\n",
       "      <td>0.000000</td>\n",
       "      <td>0.937134</td>\n",
       "      <td>0.935888</td>\n",
       "    </tr>\n",
       "    <tr>\n",
       "      <th>well3</th>\n",
       "      <td>0.956077</td>\n",
       "      <td>0.000000</td>\n",
       "      <td>0.000000</td>\n",
       "      <td>0.000000</td>\n",
       "    </tr>\n",
       "    <tr>\n",
       "      <th>well4</th>\n",
       "      <td>0.000000</td>\n",
       "      <td>0.000000</td>\n",
       "      <td>0.000000</td>\n",
       "      <td>0.000000</td>\n",
       "    </tr>\n",
       "    <tr>\n",
       "      <th rowspan=\"4\" valign=\"top\">100</th>\n",
       "      <th>well1</th>\n",
       "      <td>0.952764</td>\n",
       "      <td>0.947956</td>\n",
       "      <td>0.000000</td>\n",
       "      <td>0.000000</td>\n",
       "    </tr>\n",
       "    <tr>\n",
       "      <th>well2</th>\n",
       "      <td>0.000000</td>\n",
       "      <td>0.000000</td>\n",
       "      <td>0.936247</td>\n",
       "      <td>0.936775</td>\n",
       "    </tr>\n",
       "    <tr>\n",
       "      <th>well3</th>\n",
       "      <td>0.956077</td>\n",
       "      <td>0.000000</td>\n",
       "      <td>0.000000</td>\n",
       "      <td>0.000000</td>\n",
       "    </tr>\n",
       "    <tr>\n",
       "      <th>well4</th>\n",
       "      <td>0.000000</td>\n",
       "      <td>0.000000</td>\n",
       "      <td>0.000000</td>\n",
       "      <td>0.000000</td>\n",
       "    </tr>\n",
       "  </tbody>\n",
       "</table>\n",
       "</div>"
      ],
      "text/plain": [
       "            Enterobacter  Pseudomonas  Flavobacter  Enterococca\n",
       "Time Well                                                      \n",
       "0    well1      0.956136     0.951668     0.000000     0.000000\n",
       "     well2      0.000000     0.000000     0.942092     0.940987\n",
       "     well3      0.959294     0.000000     0.000000     0.000000\n",
       "     well4      0.000000     0.000000     0.000000     0.000000\n",
       "10   well1      0.952954     0.948095     0.000000     0.000000\n",
       "     well2      0.000000     0.000000     0.936699     0.936933\n",
       "     well3      0.956223     0.000000     0.000000     0.000000\n",
       "     well4      0.000000     0.000000     0.000000     0.000000\n",
       "20   well1      0.952822     0.947908     0.000000     0.000000\n",
       "     well2      0.000000     0.000000     0.936546     0.936513\n",
       "     well3      0.956084     0.000000     0.000000     0.000000\n",
       "     well4      0.000000     0.000000     0.000000     0.000000\n",
       "30   well1      0.952824     0.947891     0.000000     0.000000\n",
       "     well2      0.000000     0.000000     0.936047     0.936977\n",
       "     well3      0.956077     0.000000     0.000000     0.000000\n",
       "     well4      0.000000     0.000000     0.000000     0.000000\n",
       "40   well1      0.952817     0.947898     0.000000     0.000000\n",
       "     well2      0.000000     0.000000     0.936064     0.936958\n",
       "     well3      0.956077     0.000000     0.000000     0.000000\n",
       "     well4      0.000000     0.000000     0.000000     0.000000\n",
       "50   well1      0.952794     0.947924     0.000000     0.000000\n",
       "     well2      0.000000     0.000000     0.936156     0.936866\n",
       "     well3      0.956077     0.000000     0.000000     0.000000\n",
       "     well4      0.000000     0.000000     0.000000     0.000000\n",
       "60   well1      0.952683     0.948045     0.000000     0.000000\n",
       "     well2      0.000000     0.000000     0.936345     0.936676\n",
       "     well3      0.956077     0.000000     0.000000     0.000000\n",
       "     well4      0.000000     0.000000     0.000000     0.000000\n",
       "70   well1      0.952761     0.947960     0.000000     0.000000\n",
       "     well2      0.000000     0.000000     0.936452     0.936569\n",
       "     well3      0.956077     0.000000     0.000000     0.000000\n",
       "     well4      0.000000     0.000000     0.000000     0.000000\n",
       "80   well1      0.952790     0.947928     0.000000     0.000000\n",
       "     well2      0.000000     0.000000     0.936916     0.936106\n",
       "     well3      0.956077     0.000000     0.000000     0.000000\n",
       "     well4      0.000000     0.000000     0.000000     0.000000\n",
       "90   well1      0.952785     0.947933     0.000000     0.000000\n",
       "     well2      0.000000     0.000000     0.937134     0.935888\n",
       "     well3      0.956077     0.000000     0.000000     0.000000\n",
       "     well4      0.000000     0.000000     0.000000     0.000000\n",
       "100  well1      0.952764     0.947956     0.000000     0.000000\n",
       "     well2      0.000000     0.000000     0.936247     0.936775\n",
       "     well3      0.956077     0.000000     0.000000     0.000000\n",
       "     well4      0.000000     0.000000     0.000000     0.000000"
      ]
     },
     "execution_count": 18,
     "metadata": {},
     "output_type": "execute_result"
    }
   ],
   "source": [
    "Ntraj"
   ]
  },
  {
   "cell_type": "markdown",
   "metadata": {
    "collapsed": true
   },
   "source": [
    "# Run a little experiment"
   ]
  },
  {
   "cell_type": "markdown",
   "metadata": {},
   "source": [
    "Now let's use our mixing protocol to compare the performance of the \"champion\" of Well 1 with and without its \"friend\":"
   ]
  },
  {
   "cell_type": "code",
   "execution_count": 19,
   "metadata": {
    "collapsed": true
   },
   "outputs": [],
   "source": [
    "f_mix = pd.read_excel('data/test_data.xlsx',sheet_name='Mix')\n",
    "MyPlate.Passage(f_mix)\n",
    "MyPlate.Propagate(T)\n",
    "Ntraj,Rtraj=MyPlate.RunExperiment(f_dilute,T,n)"
   ]
  },
  {
   "cell_type": "markdown",
   "metadata": {},
   "source": [
    "We can plot the trajectory using `PlotTraj` from the `visualization` submodule as `PlotTraj(Ntraj)`:"
   ]
  },
  {
   "cell_type": "code",
   "execution_count": 20,
   "metadata": {},
   "outputs": [
    {
     "data": {
      "image/png": "[encoded data removed]",
      "text/plain": [
       "<matplotlib.figure.Figure at 0x114022f60>"
      ]
     },
     "metadata": {},
     "output_type": "display_data"
    }
   ],
   "source": [
    "from community_simulator.visualization import PlotTraj\n",
    "import matplotlib.pyplot as plt\n",
    "%matplotlib inline\n",
    "PlotTraj(Ntraj,figsize=(5,5))\n",
    "plt.show()"
   ]
  },
  {
   "cell_type": "markdown",
   "metadata": {},
   "source": [
    "The four panels represent the four wells. Each color is a species, and the thickness of the colored bar at each dilution cycle is proportional to the population of that species at the end of that cycle. \n",
    "\n",
    "The first two panels are controls, which simply propagate the two initial communities (which I will call 'A' and 'B'). The third panel shows the result of invading B with all of A, as can be seen by the presence of all four colors. The fourth is the invasion by the \"champion\" alone, which is the blue Enterobacter.\n",
    "\n",
    "We can also visualize the final result in a bar plot with a legend, which may be easier to read:"
   ]
  },
  {
   "cell_type": "code",
   "execution_count": 21,
   "metadata": {},
   "outputs": [
    {
     "data": {
      "image/png": "[encoded data removed]",
      "text/plain": [
       "<matplotlib.figure.Figure at 0x1a1e9e7668>"
      ]
     },
     "metadata": {},
     "output_type": "display_data"
    }
   ],
   "source": [
    "from community_simulator.visualization import StackPlot\n",
    "import matplotlib.pyplot as plt\n",
    "%matplotlib inline\n",
    "MyPlate.N.T.plot.bar()\n",
    "plt.gca().set_title('Champion invasion from A to B')\n",
    "plt.gca().set_xticklabels(['A','B','With Friends','Alone'])\n",
    "plt.show()"
   ]
  },
  {
   "cell_type": "markdown",
   "metadata": {},
   "source": [
    "In this example (without crossfeeding), the champion does better when invading with his \"friend\" than he does alone. I contrived the example to have this result, by making the two species of community A almost perfect specialists, and those of B almost perfect generalists. If the consumer matrices for both communities had been drawn from the same probability distribution, it would have been very hard to achieve this result."
   ]
  },
  {
   "cell_type": "markdown",
   "metadata": {
    "collapsed": true
   },
   "source": [
    "# Crossfeeding"
   ]
  },
  {
   "cell_type": "markdown",
   "metadata": {},
   "source": [
    "The above examples were all run in the original MacArthur Consumer Resource Model, without crossfeeding. But the most interesting model predictions come from the addition of crossfeeding. As will be discussed in detail in future documentation, we assume that a fraction $e_\\beta$ of the energy contained in the incoming flux of resource $\\beta$ is used for growth, and the rest of the energy is released into the environment in the form of secreted byproducts (and heat). We define a metabolic matrix $D_{\\alpha \\beta}$ that determines how this outgoing flux is partitioned among the various byproducts, to arrive at the following equations:\n",
    "\n",
    "\\begin{align}\n",
    "\\frac{dN_i}{dt} &= N_i g_i \\left[ \\sum_\\beta e_\\beta w_\\beta c_{i\\beta} R_\\beta - m_i\\right]\\\\\n",
    "\\frac{dR_\\alpha}{dt} &=  - R_\\alpha \\sum_j c_{j\\alpha}N_j +\\sum_{\\beta, j} (1-e_\\beta) \\frac{w_\\beta}{w_\\alpha}D_{\\alpha \\beta}c_{j\\beta}N_j R_\\beta.\n",
    "\\end{align}"
   ]
  },
  {
   "cell_type": "markdown",
   "metadata": {},
   "source": [
    "The `usertools` submodule contains a function for generating random $c_{i\\alpha}$ and $D_{\\alpha\\beta}$ matrices, with the sampling performed in such a way that members of different families of consumers can prefer different types of resources. This will be explained in more detail in future documentation. For now, we will just use the default settings and demonstrate how it runs:"
   ]
  },
  {
   "cell_type": "code",
   "execution_count": 1,
   "metadata": {
    "collapsed": true
   },
   "outputs": [],
   "source": [
    "from community_simulator.usertools import MakeMatrices\n",
    "c, D = MakeMatrices()"
   ]
  },
  {
   "cell_type": "markdown",
   "metadata": {},
   "source": [
    "The consumers defined by this $c_{i\\alpha}$ matrix come in four families, labeled F0, F1 and F2 and GEN. The resources come in three types, T0, T1 and T2. Each family contains three consumer species, and each type contains three resource species. Each of the first three families prefers a particular type of resources (F0 prefers T0, etc.), while the generalists GEN have equal preference across all types."
   ]
  },
  {
   "cell_type": "code",
   "execution_count": 2,
   "metadata": {},
   "outputs": [
    {
     "data": {
      "text/html": [
       "<div>\n",
       "<style scoped>\n",
       "    .dataframe tbody tr th:only-of-type {\n",
       "        vertical-align: middle;\n",
       "    }\n",
       "\n",
       "    .dataframe tbody tr th {\n",
       "        vertical-align: top;\n",
       "    }\n",
       "\n",
       "    .dataframe thead tr th {\n",
       "        text-align: left;\n",
       "    }\n",
       "</style>\n",
       "<table border=\"1\" class=\"dataframe\">\n",
       "  <thead>\n",
       "    <tr>\n",
       "      <th></th>\n",
       "      <th></th>\n",
       "      <th colspan=\"3\" halign=\"left\">T0</th>\n",
       "      <th colspan=\"3\" halign=\"left\">T1</th>\n",
       "      <th colspan=\"3\" halign=\"left\">T2</th>\n",
       "    </tr>\n",
       "    <tr>\n",
       "      <th></th>\n",
       "      <th></th>\n",
       "      <th>R0</th>\n",
       "      <th>R1</th>\n",
       "      <th>R2</th>\n",
       "      <th>R3</th>\n",
       "      <th>R4</th>\n",
       "      <th>R5</th>\n",
       "      <th>R6</th>\n",
       "      <th>R7</th>\n",
       "      <th>R8</th>\n",
       "    </tr>\n",
       "  </thead>\n",
       "  <tbody>\n",
       "    <tr>\n",
       "      <th rowspan=\"3\" valign=\"top\">F0</th>\n",
       "      <th>S0</th>\n",
       "      <td>0.330166</td>\n",
       "      <td>0.333064</td>\n",
       "      <td>0.327161</td>\n",
       "      <td>0.001702</td>\n",
       "      <td>-0.006641</td>\n",
       "      <td>0.000747</td>\n",
       "      <td>0.007780</td>\n",
       "      <td>-0.005847</td>\n",
       "      <td>0.008699</td>\n",
       "    </tr>\n",
       "    <tr>\n",
       "      <th>S1</th>\n",
       "      <td>0.334628</td>\n",
       "      <td>0.322015</td>\n",
       "      <td>0.344696</td>\n",
       "      <td>-0.015196</td>\n",
       "      <td>-0.002013</td>\n",
       "      <td>0.000181</td>\n",
       "      <td>0.000188</td>\n",
       "      <td>0.004192</td>\n",
       "      <td>-0.001465</td>\n",
       "    </tr>\n",
       "    <tr>\n",
       "      <th>S2</th>\n",
       "      <td>0.347406</td>\n",
       "      <td>0.326599</td>\n",
       "      <td>0.341752</td>\n",
       "      <td>-0.013932</td>\n",
       "      <td>-0.007363</td>\n",
       "      <td>0.000548</td>\n",
       "      <td>-0.002048</td>\n",
       "      <td>-0.012477</td>\n",
       "      <td>0.014726</td>\n",
       "    </tr>\n",
       "    <tr>\n",
       "      <th rowspan=\"3\" valign=\"top\">F1</th>\n",
       "      <th>S3</th>\n",
       "      <td>0.006839</td>\n",
       "      <td>0.018207</td>\n",
       "      <td>-0.007680</td>\n",
       "      <td>0.342528</td>\n",
       "      <td>0.323837</td>\n",
       "      <td>0.339616</td>\n",
       "      <td>-0.009192</td>\n",
       "      <td>0.006675</td>\n",
       "      <td>0.015452</td>\n",
       "    </tr>\n",
       "    <tr>\n",
       "      <th>S4</th>\n",
       "      <td>0.018442</td>\n",
       "      <td>0.009579</td>\n",
       "      <td>-0.004928</td>\n",
       "      <td>0.334551</td>\n",
       "      <td>0.337115</td>\n",
       "      <td>0.330439</td>\n",
       "      <td>0.004496</td>\n",
       "      <td>-0.000276</td>\n",
       "      <td>-0.021166</td>\n",
       "    </tr>\n",
       "    <tr>\n",
       "      <th>S5</th>\n",
       "      <td>-0.010184</td>\n",
       "      <td>0.006591</td>\n",
       "      <td>-0.009480</td>\n",
       "      <td>0.355110</td>\n",
       "      <td>0.339108</td>\n",
       "      <td>0.332249</td>\n",
       "      <td>0.007705</td>\n",
       "      <td>0.002963</td>\n",
       "      <td>0.012210</td>\n",
       "    </tr>\n",
       "    <tr>\n",
       "      <th rowspan=\"3\" valign=\"top\">F2</th>\n",
       "      <th>S6</th>\n",
       "      <td>0.005217</td>\n",
       "      <td>-0.008573</td>\n",
       "      <td>-0.007828</td>\n",
       "      <td>-0.013485</td>\n",
       "      <td>-0.007416</td>\n",
       "      <td>-0.004241</td>\n",
       "      <td>0.327492</td>\n",
       "      <td>0.326627</td>\n",
       "      <td>0.327159</td>\n",
       "    </tr>\n",
       "    <tr>\n",
       "      <th>S7</th>\n",
       "      <td>0.012300</td>\n",
       "      <td>-0.001208</td>\n",
       "      <td>0.008964</td>\n",
       "      <td>0.012133</td>\n",
       "      <td>-0.010516</td>\n",
       "      <td>-0.001259</td>\n",
       "      <td>0.342097</td>\n",
       "      <td>0.326614</td>\n",
       "      <td>0.326653</td>\n",
       "    </tr>\n",
       "    <tr>\n",
       "      <th>S8</th>\n",
       "      <td>-0.002385</td>\n",
       "      <td>-0.006921</td>\n",
       "      <td>-0.008053</td>\n",
       "      <td>-0.004441</td>\n",
       "      <td>-0.012996</td>\n",
       "      <td>-0.002632</td>\n",
       "      <td>0.335317</td>\n",
       "      <td>0.324475</td>\n",
       "      <td>0.346414</td>\n",
       "    </tr>\n",
       "    <tr>\n",
       "      <th rowspan=\"3\" valign=\"top\">GEN</th>\n",
       "      <th>S9</th>\n",
       "      <td>0.097786</td>\n",
       "      <td>0.104699</td>\n",
       "      <td>0.120239</td>\n",
       "      <td>0.115780</td>\n",
       "      <td>0.117083</td>\n",
       "      <td>0.110496</td>\n",
       "      <td>0.106936</td>\n",
       "      <td>0.114593</td>\n",
       "      <td>0.115686</td>\n",
       "    </tr>\n",
       "    <tr>\n",
       "      <th>S10</th>\n",
       "      <td>0.105591</td>\n",
       "      <td>0.096437</td>\n",
       "      <td>0.125243</td>\n",
       "      <td>0.113117</td>\n",
       "      <td>0.102491</td>\n",
       "      <td>0.122101</td>\n",
       "      <td>0.120689</td>\n",
       "      <td>0.113719</td>\n",
       "      <td>0.122662</td>\n",
       "    </tr>\n",
       "    <tr>\n",
       "      <th>S11</th>\n",
       "      <td>0.109906</td>\n",
       "      <td>0.105232</td>\n",
       "      <td>0.093768</td>\n",
       "      <td>0.116115</td>\n",
       "      <td>0.107908</td>\n",
       "      <td>0.116404</td>\n",
       "      <td>0.113728</td>\n",
       "      <td>0.102585</td>\n",
       "      <td>0.103347</td>\n",
       "    </tr>\n",
       "  </tbody>\n",
       "</table>\n",
       "</div>"
      ],
      "text/plain": [
       "               T0                            T1                            T2  \\\n",
       "               R0        R1        R2        R3        R4        R5        R6   \n",
       "F0  S0   0.330166  0.333064  0.327161  0.001702 -0.006641  0.000747  0.007780   \n",
       "    S1   0.334628  0.322015  0.344696 -0.015196 -0.002013  0.000181  0.000188   \n",
       "    S2   0.347406  0.326599  0.341752 -0.013932 -0.007363  0.000548 -0.002048   \n",
       "F1  S3   0.006839  0.018207 -0.007680  0.342528  0.323837  0.339616 -0.009192   \n",
       "    S4   0.018442  0.009579 -0.004928  0.334551  0.337115  0.330439  0.004496   \n",
       "    S5  -0.010184  0.006591 -0.009480  0.355110  0.339108  0.332249  0.007705   \n",
       "F2  S6   0.005217 -0.008573 -0.007828 -0.013485 -0.007416 -0.004241  0.327492   \n",
       "    S7   0.012300 -0.001208  0.008964  0.012133 -0.010516 -0.001259  0.342097   \n",
       "    S8  -0.002385 -0.006921 -0.008053 -0.004441 -0.012996 -0.002632  0.335317   \n",
       "GEN S9   0.097786  0.104699  0.120239  0.115780  0.117083  0.110496  0.106936   \n",
       "    S10  0.105591  0.096437  0.125243  0.113117  0.102491  0.122101  0.120689   \n",
       "    S11  0.109906  0.105232  0.093768  0.116115  0.107908  0.116404  0.113728   \n",
       "\n",
       "                             \n",
       "               R7        R8  \n",
       "F0  S0  -0.005847  0.008699  \n",
       "    S1   0.004192 -0.001465  \n",
       "    S2  -0.012477  0.014726  \n",
       "F1  S3   0.006675  0.015452  \n",
       "    S4  -0.000276 -0.021166  \n",
       "    S5   0.002963  0.012210  \n",
       "F2  S6   0.326627  0.327159  \n",
       "    S7   0.326614  0.326653  \n",
       "    S8   0.324475  0.346414  \n",
       "GEN S9   0.114593  0.115686  \n",
       "    S10  0.113719  0.122662  \n",
       "    S11  0.102585  0.103347  "
      ]
     },
     "execution_count": 2,
     "metadata": {},
     "output_type": "execute_result"
    }
   ],
   "source": [
    "c"
   ]
  },
  {
   "cell_type": "markdown",
   "metadata": {},
   "source": [
    "The $D_{\\alpha\\beta}$ matrix is structured to reflect the rough features of biochemistry: a fraction $f_w$ of byproducts secreted from any metabolic channel are 'waste' molecules (carboxylic acids). Most of the remaining secretion, occupying a fraction $f_s$ of the total, is of the same type as the source molecule: modified sugars are lost during sugar metabolism, amino acids are lost during amino acid metabolism, etc. We partition the rest of the secretion randomly among all molecular species. In the following example, T0 contains the carboxylic acids."
   ]
  },
  {
   "cell_type": "code",
   "execution_count": 3,
   "metadata": {},
   "outputs": [
    {
     "data": {
      "text/html": [
       "<div>\n",
       "<style scoped>\n",
       "    .dataframe tbody tr th:only-of-type {\n",
       "        vertical-align: middle;\n",
       "    }\n",
       "\n",
       "    .dataframe tbody tr th {\n",
       "        vertical-align: top;\n",
       "    }\n",
       "\n",
       "    .dataframe thead tr th {\n",
       "        text-align: left;\n",
       "    }\n",
       "</style>\n",
       "<table border=\"1\" class=\"dataframe\">\n",
       "  <thead>\n",
       "    <tr>\n",
       "      <th></th>\n",
       "      <th></th>\n",
       "      <th colspan=\"3\" halign=\"left\">T0</th>\n",
       "      <th colspan=\"3\" halign=\"left\">T1</th>\n",
       "      <th colspan=\"3\" halign=\"left\">T2</th>\n",
       "    </tr>\n",
       "    <tr>\n",
       "      <th></th>\n",
       "      <th></th>\n",
       "      <th>R0</th>\n",
       "      <th>R1</th>\n",
       "      <th>R2</th>\n",
       "      <th>R3</th>\n",
       "      <th>R4</th>\n",
       "      <th>R5</th>\n",
       "      <th>R6</th>\n",
       "      <th>R7</th>\n",
       "      <th>R8</th>\n",
       "    </tr>\n",
       "  </thead>\n",
       "  <tbody>\n",
       "    <tr>\n",
       "      <th rowspan=\"3\" valign=\"top\">T0</th>\n",
       "      <th>R0</th>\n",
       "      <td>0.328906</td>\n",
       "      <td>0.310774</td>\n",
       "      <td>0.338076</td>\n",
       "      <td>0.007838</td>\n",
       "      <td>0.002857</td>\n",
       "      <td>0.003165</td>\n",
       "      <td>0.003015</td>\n",
       "      <td>0.002934</td>\n",
       "      <td>0.002434</td>\n",
       "    </tr>\n",
       "    <tr>\n",
       "      <th>R1</th>\n",
       "      <td>0.294294</td>\n",
       "      <td>0.326412</td>\n",
       "      <td>0.348332</td>\n",
       "      <td>0.002885</td>\n",
       "      <td>0.007983</td>\n",
       "      <td>0.007955</td>\n",
       "      <td>0.002506</td>\n",
       "      <td>0.005592</td>\n",
       "      <td>0.004040</td>\n",
       "    </tr>\n",
       "    <tr>\n",
       "      <th>R2</th>\n",
       "      <td>0.336609</td>\n",
       "      <td>0.289939</td>\n",
       "      <td>0.347685</td>\n",
       "      <td>0.005014</td>\n",
       "      <td>0.006376</td>\n",
       "      <td>0.004598</td>\n",
       "      <td>0.002252</td>\n",
       "      <td>0.006211</td>\n",
       "      <td>0.001316</td>\n",
       "    </tr>\n",
       "    <tr>\n",
       "      <th rowspan=\"3\" valign=\"top\">T1</th>\n",
       "      <th>R3</th>\n",
       "      <td>0.224842</td>\n",
       "      <td>0.226606</td>\n",
       "      <td>0.255892</td>\n",
       "      <td>0.083066</td>\n",
       "      <td>0.099989</td>\n",
       "      <td>0.100740</td>\n",
       "      <td>0.003055</td>\n",
       "      <td>0.002859</td>\n",
       "      <td>0.002950</td>\n",
       "    </tr>\n",
       "    <tr>\n",
       "      <th>R4</th>\n",
       "      <td>0.234868</td>\n",
       "      <td>0.232865</td>\n",
       "      <td>0.233672</td>\n",
       "      <td>0.090959</td>\n",
       "      <td>0.094089</td>\n",
       "      <td>0.104822</td>\n",
       "      <td>0.003351</td>\n",
       "      <td>0.002336</td>\n",
       "      <td>0.003037</td>\n",
       "    </tr>\n",
       "    <tr>\n",
       "      <th>R5</th>\n",
       "      <td>0.228324</td>\n",
       "      <td>0.235501</td>\n",
       "      <td>0.248041</td>\n",
       "      <td>0.090067</td>\n",
       "      <td>0.098687</td>\n",
       "      <td>0.091165</td>\n",
       "      <td>0.000891</td>\n",
       "      <td>0.002652</td>\n",
       "      <td>0.004672</td>\n",
       "    </tr>\n",
       "    <tr>\n",
       "      <th rowspan=\"3\" valign=\"top\">T2</th>\n",
       "      <th>R6</th>\n",
       "      <td>0.235233</td>\n",
       "      <td>0.238005</td>\n",
       "      <td>0.241166</td>\n",
       "      <td>0.003324</td>\n",
       "      <td>0.003088</td>\n",
       "      <td>0.001855</td>\n",
       "      <td>0.097373</td>\n",
       "      <td>0.075911</td>\n",
       "      <td>0.104044</td>\n",
       "    </tr>\n",
       "    <tr>\n",
       "      <th>R7</th>\n",
       "      <td>0.234874</td>\n",
       "      <td>0.222375</td>\n",
       "      <td>0.221215</td>\n",
       "      <td>0.005034</td>\n",
       "      <td>0.003887</td>\n",
       "      <td>0.001841</td>\n",
       "      <td>0.108476</td>\n",
       "      <td>0.113744</td>\n",
       "      <td>0.088554</td>\n",
       "    </tr>\n",
       "    <tr>\n",
       "      <th>R8</th>\n",
       "      <td>0.249141</td>\n",
       "      <td>0.254496</td>\n",
       "      <td>0.231528</td>\n",
       "      <td>0.004231</td>\n",
       "      <td>0.001218</td>\n",
       "      <td>0.002030</td>\n",
       "      <td>0.086691</td>\n",
       "      <td>0.079565</td>\n",
       "      <td>0.091099</td>\n",
       "    </tr>\n",
       "  </tbody>\n",
       "</table>\n",
       "</div>"
      ],
      "text/plain": [
       "             T0                            T1                            T2  \\\n",
       "             R0        R1        R2        R3        R4        R5        R6   \n",
       "T0 R0  0.328906  0.310774  0.338076  0.007838  0.002857  0.003165  0.003015   \n",
       "   R1  0.294294  0.326412  0.348332  0.002885  0.007983  0.007955  0.002506   \n",
       "   R2  0.336609  0.289939  0.347685  0.005014  0.006376  0.004598  0.002252   \n",
       "T1 R3  0.224842  0.226606  0.255892  0.083066  0.099989  0.100740  0.003055   \n",
       "   R4  0.234868  0.232865  0.233672  0.090959  0.094089  0.104822  0.003351   \n",
       "   R5  0.228324  0.235501  0.248041  0.090067  0.098687  0.091165  0.000891   \n",
       "T2 R6  0.235233  0.238005  0.241166  0.003324  0.003088  0.001855  0.097373   \n",
       "   R7  0.234874  0.222375  0.221215  0.005034  0.003887  0.001841  0.108476   \n",
       "   R8  0.249141  0.254496  0.231528  0.004231  0.001218  0.002030  0.086691   \n",
       "\n",
       "                           \n",
       "             R7        R8  \n",
       "T0 R0  0.002934  0.002434  \n",
       "   R1  0.005592  0.004040  \n",
       "   R2  0.006211  0.001316  \n",
       "T1 R3  0.002859  0.002950  \n",
       "   R4  0.002336  0.003037  \n",
       "   R5  0.002652  0.004672  \n",
       "T2 R6  0.075911  0.104044  \n",
       "   R7  0.113744  0.088554  \n",
       "   R8  0.079565  0.091099  "
      ]
     },
     "execution_count": 3,
     "metadata": {},
     "output_type": "execute_result"
    }
   ],
   "source": [
    "D"
   ]
  },
  {
   "cell_type": "markdown",
   "metadata": {},
   "source": [
    "Note that none of the input parameters have to be dataframes, but it's convenient to use them for pedagogical purposes. Let's simulate batch culture of this community in 5 wells. We will supply 10 units of resource R8 in each fresh well, but none of the other resources."
   ]
  },
  {
   "cell_type": "code",
   "execution_count": 2,
   "metadata": {},
   "outputs": [
    {
     "data": {
      "image/png": "[encoded data removed]",
      "text/plain": [
       "<matplotlib.figure.Figure at 0x10945e1d0>"
      ]
     },
     "metadata": {},
     "output_type": "display_data"
    }
   ],
   "source": [
    "from community_simulator.usertools import BinaryRandomMatrix\n",
    "from community_simulator import Community\n",
    "import numpy as np\n",
    "from community_simulator.usertools import MakeConsumerDynamics,MakeResourceDynamics,AddLabels\n",
    "import pandas as pd\n",
    "\n",
    "#Set experiment parameters\n",
    "S_tot = len(c)\n",
    "S_well = 8.5\n",
    "n_wells = 5\n",
    "M = len(D)\n",
    "\n",
    "#Compute probability of finding a given species in a given well\n",
    "p = S_well*1./S_tot\n",
    "\n",
    "#Create initial conditions\n",
    "N0 = BinaryRandomMatrix(S_tot,n_wells,p)\n",
    "R0 = np.zeros((M,n_wells))\n",
    "R0[8] = 5*S_well\n",
    "N0,R0 = AddLabels(N0,R0,c)\n",
    "init_state = [N0,R0]\n",
    "\n",
    "#Construct dynamics\n",
    "assumptions = {'regulation':'independent','replenishment':'off','response':'type I'}\n",
    "def dNdt(N,R,params):\n",
    "    return MakeConsumerDynamics(**assumptions)(N,R,params)\n",
    "def dRdt(N,R,params):\n",
    "    return MakeResourceDynamics(**assumptions)(N,R,params)\n",
    "dynamics = [dNdt,dRdt]\n",
    "e = np.ones(M)*0.01\n",
    "e[:3] = 1. #Set efficiency of carboxylic acid usage to 1\n",
    "\n",
    "#Create parameter set\n",
    "params={'c':c,\n",
    "        'm':np.ones(S_tot)*1e-9,\n",
    "        'w':np.ones(M),\n",
    "        'D':D,\n",
    "        'g':np.ones(S_tot),\n",
    "        'e':e\n",
    "       }\n",
    "\n",
    "MyPlate = Community(init_state,dynamics,params,scale=10**9)\n",
    "\n",
    "t, Ntraj, Rtraj = MyPlate.TestWell(T=100)"
   ]
  },
  {
   "cell_type": "markdown",
   "metadata": {},
   "source": [
    "Note that the resources that were not added by hand start to accumulate around time 40, and then are consumed and drop back to zero."
   ]
  },
  {
   "cell_type": "markdown",
   "metadata": {},
   "source": [
    "Now let's run 7 dilution cycles and plot the composition after each cycle for all five wells:"
   ]
  },
  {
   "cell_type": "code",
   "execution_count": 8,
   "metadata": {},
   "outputs": [
    {
     "data": {
      "image/png": "[encoded data removed]",
      "text/plain": [
       "<matplotlib.figure.Figure at 0x15161a7898>"
      ]
     },
     "metadata": {},
     "output_type": "display_data"
    }
   ],
   "source": [
    "from community_simulator.visualization import PlotTraj\n",
    "import matplotlib.pyplot as plt\n",
    "\n",
    "f = np.eye(n_wells)*1e-3\n",
    "N_traj, R_traj = MyPlate.RunExperiment(f,100,7)\n",
    "\n",
    "PlotTraj(N_traj,figsize=(10,20))\n",
    "plt.show()"
   ]
  },
  {
   "cell_type": "code",
   "execution_count": 9,
   "metadata": {},
   "outputs": [
    {
     "data": {
      "text/html": [
       "<div>\n",
       "<style scoped>\n",
       "    .dataframe tbody tr th:only-of-type {\n",
       "        vertical-align: middle;\n",
       "    }\n",
       "\n",
       "    .dataframe tbody tr th {\n",
       "        vertical-align: top;\n",
       "    }\n",
       "\n",
       "    .dataframe thead th {\n",
       "        text-align: right;\n",
       "    }\n",
       "</style>\n",
       "<table border=\"1\" class=\"dataframe\">\n",
       "  <thead>\n",
       "    <tr style=\"text-align: right;\">\n",
       "      <th></th>\n",
       "      <th></th>\n",
       "      <th>W0</th>\n",
       "      <th>W1</th>\n",
       "      <th>W2</th>\n",
       "      <th>W3</th>\n",
       "      <th>W4</th>\n",
       "    </tr>\n",
       "  </thead>\n",
       "  <tbody>\n",
       "    <tr>\n",
       "      <th rowspan=\"3\" valign=\"top\">F0</th>\n",
       "      <th>S0</th>\n",
       "      <td>0.173880</td>\n",
       "      <td>0.067242</td>\n",
       "      <td>0.000000</td>\n",
       "      <td>0.066799</td>\n",
       "      <td>0.068359</td>\n",
       "    </tr>\n",
       "    <tr>\n",
       "      <th>S1</th>\n",
       "      <td>0.586095</td>\n",
       "      <td>0.224585</td>\n",
       "      <td>0.244518</td>\n",
       "      <td>0.221778</td>\n",
       "      <td>0.224316</td>\n",
       "    </tr>\n",
       "    <tr>\n",
       "      <th>S2</th>\n",
       "      <td>0.000000</td>\n",
       "      <td>0.469633</td>\n",
       "      <td>0.517173</td>\n",
       "      <td>0.472877</td>\n",
       "      <td>0.468778</td>\n",
       "    </tr>\n",
       "    <tr>\n",
       "      <th rowspan=\"3\" valign=\"top\">F1</th>\n",
       "      <th>S3</th>\n",
       "      <td>0.000000</td>\n",
       "      <td>0.000000</td>\n",
       "      <td>0.000000</td>\n",
       "      <td>0.000000</td>\n",
       "      <td>0.000000</td>\n",
       "    </tr>\n",
       "    <tr>\n",
       "      <th>S4</th>\n",
       "      <td>0.000000</td>\n",
       "      <td>0.000000</td>\n",
       "      <td>0.000000</td>\n",
       "      <td>0.000000</td>\n",
       "      <td>0.000000</td>\n",
       "    </tr>\n",
       "    <tr>\n",
       "      <th>S5</th>\n",
       "      <td>0.000000</td>\n",
       "      <td>0.000000</td>\n",
       "      <td>0.000000</td>\n",
       "      <td>0.000000</td>\n",
       "      <td>0.000000</td>\n",
       "    </tr>\n",
       "    <tr>\n",
       "      <th rowspan=\"3\" valign=\"top\">F2</th>\n",
       "      <th>S6</th>\n",
       "      <td>0.000126</td>\n",
       "      <td>0.000129</td>\n",
       "      <td>0.000129</td>\n",
       "      <td>0.000000</td>\n",
       "      <td>0.000087</td>\n",
       "    </tr>\n",
       "    <tr>\n",
       "      <th>S7</th>\n",
       "      <td>0.604733</td>\n",
       "      <td>0.604761</td>\n",
       "      <td>0.604748</td>\n",
       "      <td>0.604950</td>\n",
       "      <td>0.604806</td>\n",
       "    </tr>\n",
       "    <tr>\n",
       "      <th>S8</th>\n",
       "      <td>0.000000</td>\n",
       "      <td>0.000043</td>\n",
       "      <td>0.000051</td>\n",
       "      <td>0.000000</td>\n",
       "      <td>0.000047</td>\n",
       "    </tr>\n",
       "    <tr>\n",
       "      <th rowspan=\"3\" valign=\"top\">GEN</th>\n",
       "      <th>S9</th>\n",
       "      <td>0.000000</td>\n",
       "      <td>0.000000</td>\n",
       "      <td>0.000000</td>\n",
       "      <td>0.000000</td>\n",
       "      <td>0.000000</td>\n",
       "    </tr>\n",
       "    <tr>\n",
       "      <th>S10</th>\n",
       "      <td>0.000000</td>\n",
       "      <td>0.000000</td>\n",
       "      <td>0.000000</td>\n",
       "      <td>0.000000</td>\n",
       "      <td>0.000000</td>\n",
       "    </tr>\n",
       "    <tr>\n",
       "      <th>S11</th>\n",
       "      <td>0.000000</td>\n",
       "      <td>0.000000</td>\n",
       "      <td>0.000000</td>\n",
       "      <td>0.000000</td>\n",
       "      <td>0.000000</td>\n",
       "    </tr>\n",
       "  </tbody>\n",
       "</table>\n",
       "</div>"
      ],
      "text/plain": [
       "               W0        W1        W2        W3        W4\n",
       "F0  S0   0.173880  0.067242  0.000000  0.066799  0.068359\n",
       "    S1   0.586095  0.224585  0.244518  0.221778  0.224316\n",
       "    S2   0.000000  0.469633  0.517173  0.472877  0.468778\n",
       "F1  S3   0.000000  0.000000  0.000000  0.000000  0.000000\n",
       "    S4   0.000000  0.000000  0.000000  0.000000  0.000000\n",
       "    S5   0.000000  0.000000  0.000000  0.000000  0.000000\n",
       "F2  S6   0.000126  0.000129  0.000129  0.000000  0.000087\n",
       "    S7   0.604733  0.604761  0.604748  0.604950  0.604806\n",
       "    S8   0.000000  0.000043  0.000051  0.000000  0.000047\n",
       "GEN S9   0.000000  0.000000  0.000000  0.000000  0.000000\n",
       "    S10  0.000000  0.000000  0.000000  0.000000  0.000000\n",
       "    S11  0.000000  0.000000  0.000000  0.000000  0.000000"
      ]
     },
     "execution_count": 9,
     "metadata": {},
     "output_type": "execute_result"
    }
   ],
   "source": [
    "MyPlate.N"
   ]
  },
  {
   "cell_type": "markdown",
   "metadata": {},
   "source": [
    "# Continuous Culture"
   ]
  },
  {
   "cell_type": "markdown",
   "metadata": {},
   "source": [
    "This package was originally designed for doing batch culture, but it also includes options for continuous culture. The resource dynamics are modeled by functions of the form\n",
    "\\begin{align}\n",
    "\\frac{dR_\\alpha}{dt} =h_\\alpha (R_\\alpha) - \\sum_j N_j \\nu_{j \\alpha}^{\\mathrm{in}} + \\sum_j N_j \\nu_{j \\alpha}^{\\mathrm{out}},\n",
    "\\end{align}\n",
    "The default setting in MakeResourceDynamics is to not have any continuous replenishment of resources (`replenishment='off'`), since the resources are resupplied at the beginning of every batch. This is equivalent to setting $h_\\alpha = 0$ in the above equation. But you can set `replenishment='non-renew'` to model \"non-renewable\" or \"biotic\" resources with logistic growth that are capable of going extinct:\n",
    "\\begin{align}\n",
    "h_\\alpha^{\\mathrm{non-renew}} (R_\\alpha) = r_\\alpha R_\\alpha (R_\\alpha^0-R_\\alpha)\n",
    "\\end{align}\n",
    "or `replenishment='renew'` to model \"renewable\" or \"abiotic\" resources with a linear functional form, which does not allow resource extinction:\n",
    "\\begin{align}\n",
    "h_\\alpha^{\\mathrm{renew}} (R_\\alpha) = \\tau_\\alpha^{-1} (R_\\alpha^0-R_\\alpha).\n",
    "\\end{align}"
   ]
  },
  {
   "cell_type": "code",
   "execution_count": 1,
   "metadata": {},
   "outputs": [
    {
     "data": {
      "image/png": "[encoded data removed]",
      "text/plain": [
       "<matplotlib.figure.Figure at 0x110e65cd0>"
      ]
     },
     "metadata": {},
     "output_type": "display_data"
    }
   ],
   "source": [
    "from community_simulator.usertools import MakeMatrices\n",
    "from community_simulator.usertools import BinaryRandomMatrix\n",
    "from community_simulator import Community\n",
    "import numpy as np\n",
    "from community_simulator.usertools import MakeConsumerDynamics,MakeResourceDynamics,AddLabels\n",
    "import pandas as pd\n",
    "\n",
    "species_per_family = 20\n",
    "resources_per_type = 7\n",
    "productivity = 500. #abundance of externally supplied resource in absence of consumers\n",
    "q = 0 #degree of specialization\n",
    "e = 0.2 #efficiency\n",
    "\n",
    "pool_params = {'SA': species_per_family*np.ones(3), #Number of species in each family\n",
    "          'MA': resources_per_type*np.ones(3), #Number of resources of each type\n",
    "          'Sgen': species_per_family, #Number of generalist species\n",
    "          'muc': 10, #Mean sum of consumption rates in Gaussian model\n",
    "          'sigc': .1, #Variance in consumption rate in Gaussian model\n",
    "          'q': q, #Preference strength \n",
    "          'c0':0.01, #Background consumption rate in binary model\n",
    "          'c1':1., #Maximum consumption rate in binary model\n",
    "          'fs':0.25, #Fraction of secretion flux with same resource type\n",
    "          'fw':0.25, #Fraction of secretion flux to 'waste' resource\n",
    "          'D_diversity':0.2 #Variability in secretion fluxes among resources (must be less than 1)\n",
    "         }\n",
    "c, D = MakeMatrices(params = pool_params, kind = 'Binary')\n",
    "\n",
    "#Create initial conditions (sub-sampling from regional species pool)\n",
    "S_tot = len(c)\n",
    "S_well = 50\n",
    "n_wells = 5\n",
    "M = len(D)\n",
    "p = S_well*1./S_tot\n",
    "N0 = BinaryRandomMatrix(S_tot,n_wells,p)\n",
    "R0 = np.zeros((M,n_wells))\n",
    "R0[-1,:] = productivity\n",
    "N0,R0 = AddLabels(N0,R0,c)\n",
    "init_state = [N0,R0]\n",
    "\n",
    "#Construct dynamics\n",
    "assumptions = {'regulation':'independent','replenishment':'renew','response':'type I'}\n",
    "def dNdt(N,R,params):\n",
    "    return MakeConsumerDynamics(**assumptions)(N,R,params)\n",
    "def dRdt(N,R,params):\n",
    "    return MakeResourceDynamics(**assumptions)(N,R,params)\n",
    "dynamics = [dNdt,dRdt]\n",
    "\n",
    "#Create parameter set\n",
    "params={'c':c,\n",
    "        'm':np.ones(S_tot)*0.5+np.random.rand(S_tot),\n",
    "        'w':np.ones(M),\n",
    "        'D':D,\n",
    "        'g':np.ones(S_tot),\n",
    "        'e':e,\n",
    "        'R0':R0.values[:,0],\n",
    "        'r':1.,\n",
    "        'tau':1\n",
    "       }\n",
    "\n",
    "MyPlate = Community(init_state,dynamics,params)\n",
    "\n",
    "t, Ntraj, Rtraj = MyPlate.TestWell(T=10)"
   ]
  },
  {
   "cell_type": "markdown",
   "metadata": {},
   "source": [
    "Now let's run for a long time, periodically removing the species that are going extinct, to avoid numerical instabilities (using the multinomial sampling built in to RunExperiment)."
   ]
  },
  {
   "cell_type": "code",
   "execution_count": 2,
   "metadata": {
    "collapsed": true
   },
   "outputs": [],
   "source": [
    "MyPlate.Passage(np.eye(n_wells)*1e-3,refresh_resource=False)\n",
    "Ntraj,Rtraj = MyPlate.RunExperiment(np.eye(n_wells),5,10,refresh_resource=False,scale=1e6)\n",
    "MyPlate.Passage(np.eye(n_wells),refresh_resource=False)"
   ]
  },
  {
   "cell_type": "code",
   "execution_count": 25,
   "metadata": {},
   "outputs": [
    {
     "data": {
      "text/plain": [
       "W0    13\n",
       "W1    19\n",
       "W2    15\n",
       "W3    16\n",
       "W4    16\n",
       "dtype: int64"
      ]
     },
     "execution_count": 25,
     "metadata": {},
     "output_type": "execute_result"
    }
   ],
   "source": [
    "Ntraj,Rtraj = MyPlate.RunExperiment(np.eye(n_wells),5,500,refresh_resource=False,scale=1e6)\n",
    "(MyPlate.N>0).sum()"
   ]
  },
  {
   "cell_type": "code",
   "execution_count": 26,
   "metadata": {},
   "outputs": [
    {
     "data": {
      "text/plain": [
       "15.8"
      ]
     },
     "execution_count": 26,
     "metadata": {},
     "output_type": "execute_result"
    }
   ],
   "source": [
    "np.mean((MyPlate.N>0).sum())"
   ]
  },
  {
   "cell_type": "code",
   "execution_count": 4,
   "metadata": {},
   "outputs": [
    {
     "data": {
      "text/html": [
       "<div>\n",
       "<style scoped>\n",
       "    .dataframe tbody tr th:only-of-type {\n",
       "        vertical-align: middle;\n",
       "    }\n",
       "\n",
       "    .dataframe tbody tr th {\n",
       "        vertical-align: top;\n",
       "    }\n",
       "\n",
       "    .dataframe thead th {\n",
       "        text-align: right;\n",
       "    }\n",
       "</style>\n",
       "<table border=\"1\" class=\"dataframe\">\n",
       "  <thead>\n",
       "    <tr style=\"text-align: right;\">\n",
       "      <th></th>\n",
       "      <th></th>\n",
       "      <th>W0</th>\n",
       "      <th>W1</th>\n",
       "      <th>W2</th>\n",
       "      <th>W3</th>\n",
       "      <th>W4</th>\n",
       "    </tr>\n",
       "  </thead>\n",
       "  <tbody>\n",
       "    <tr>\n",
       "      <th rowspan=\"7\" valign=\"top\">T0</th>\n",
       "      <th>R0</th>\n",
       "      <td>0.146948</td>\n",
       "      <td>0.172382</td>\n",
       "      <td>0.142818</td>\n",
       "      <td>0.176636</td>\n",
       "      <td>0.084556</td>\n",
       "    </tr>\n",
       "    <tr>\n",
       "      <th>R1</th>\n",
       "      <td>0.299554</td>\n",
       "      <td>0.300073</td>\n",
       "      <td>0.250471</td>\n",
       "      <td>0.269025</td>\n",
       "      <td>0.305253</td>\n",
       "    </tr>\n",
       "    <tr>\n",
       "      <th>R2</th>\n",
       "      <td>0.220437</td>\n",
       "      <td>0.230414</td>\n",
       "      <td>0.157872</td>\n",
       "      <td>0.238351</td>\n",
       "      <td>0.131366</td>\n",
       "    </tr>\n",
       "    <tr>\n",
       "      <th>R3</th>\n",
       "      <td>0.147286</td>\n",
       "      <td>0.254737</td>\n",
       "      <td>0.209508</td>\n",
       "      <td>0.144524</td>\n",
       "      <td>0.189705</td>\n",
       "    </tr>\n",
       "    <tr>\n",
       "      <th>R4</th>\n",
       "      <td>0.281505</td>\n",
       "      <td>0.492236</td>\n",
       "      <td>0.459699</td>\n",
       "      <td>0.291380</td>\n",
       "      <td>0.355576</td>\n",
       "    </tr>\n",
       "    <tr>\n",
       "      <th>R5</th>\n",
       "      <td>0.120225</td>\n",
       "      <td>0.105813</td>\n",
       "      <td>0.101206</td>\n",
       "      <td>0.123896</td>\n",
       "      <td>0.111133</td>\n",
       "    </tr>\n",
       "    <tr>\n",
       "      <th>R6</th>\n",
       "      <td>0.135368</td>\n",
       "      <td>0.110012</td>\n",
       "      <td>0.116835</td>\n",
       "      <td>0.151438</td>\n",
       "      <td>0.117959</td>\n",
       "    </tr>\n",
       "    <tr>\n",
       "      <th rowspan=\"7\" valign=\"top\">T1</th>\n",
       "      <th>R7</th>\n",
       "      <td>0.214255</td>\n",
       "      <td>0.470424</td>\n",
       "      <td>0.218669</td>\n",
       "      <td>0.185633</td>\n",
       "      <td>0.173071</td>\n",
       "    </tr>\n",
       "    <tr>\n",
       "      <th>R8</th>\n",
       "      <td>0.349156</td>\n",
       "      <td>0.172141</td>\n",
       "      <td>0.193750</td>\n",
       "      <td>0.398963</td>\n",
       "      <td>0.196076</td>\n",
       "    </tr>\n",
       "    <tr>\n",
       "      <th>R9</th>\n",
       "      <td>0.234312</td>\n",
       "      <td>0.118096</td>\n",
       "      <td>0.187706</td>\n",
       "      <td>0.278884</td>\n",
       "      <td>0.256302</td>\n",
       "    </tr>\n",
       "    <tr>\n",
       "      <th>R10</th>\n",
       "      <td>0.421759</td>\n",
       "      <td>0.368402</td>\n",
       "      <td>0.465667</td>\n",
       "      <td>0.370497</td>\n",
       "      <td>0.288579</td>\n",
       "    </tr>\n",
       "    <tr>\n",
       "      <th>R11</th>\n",
       "      <td>0.277027</td>\n",
       "      <td>0.232005</td>\n",
       "      <td>0.302055</td>\n",
       "      <td>0.269430</td>\n",
       "      <td>0.377064</td>\n",
       "    </tr>\n",
       "    <tr>\n",
       "      <th>R12</th>\n",
       "      <td>0.149023</td>\n",
       "      <td>0.194643</td>\n",
       "      <td>0.159761</td>\n",
       "      <td>0.149140</td>\n",
       "      <td>0.208917</td>\n",
       "    </tr>\n",
       "    <tr>\n",
       "      <th>R13</th>\n",
       "      <td>0.106126</td>\n",
       "      <td>0.138213</td>\n",
       "      <td>0.113801</td>\n",
       "      <td>0.106593</td>\n",
       "      <td>0.149298</td>\n",
       "    </tr>\n",
       "    <tr>\n",
       "      <th rowspan=\"7\" valign=\"top\">T2</th>\n",
       "      <th>R14</th>\n",
       "      <td>0.163393</td>\n",
       "      <td>0.244517</td>\n",
       "      <td>0.205824</td>\n",
       "      <td>0.166053</td>\n",
       "      <td>0.206825</td>\n",
       "    </tr>\n",
       "    <tr>\n",
       "      <th>R15</th>\n",
       "      <td>0.120428</td>\n",
       "      <td>0.128697</td>\n",
       "      <td>0.126354</td>\n",
       "      <td>0.119082</td>\n",
       "      <td>0.108673</td>\n",
       "    </tr>\n",
       "    <tr>\n",
       "      <th>R16</th>\n",
       "      <td>0.279195</td>\n",
       "      <td>0.203598</td>\n",
       "      <td>0.295101</td>\n",
       "      <td>0.334165</td>\n",
       "      <td>0.186184</td>\n",
       "    </tr>\n",
       "    <tr>\n",
       "      <th>R17</th>\n",
       "      <td>0.119810</td>\n",
       "      <td>0.112095</td>\n",
       "      <td>0.105295</td>\n",
       "      <td>0.120177</td>\n",
       "      <td>0.121745</td>\n",
       "    </tr>\n",
       "    <tr>\n",
       "      <th>R18</th>\n",
       "      <td>0.253521</td>\n",
       "      <td>0.130298</td>\n",
       "      <td>0.197101</td>\n",
       "      <td>0.235095</td>\n",
       "      <td>0.370408</td>\n",
       "    </tr>\n",
       "    <tr>\n",
       "      <th>R19</th>\n",
       "      <td>0.116880</td>\n",
       "      <td>0.096969</td>\n",
       "      <td>0.126125</td>\n",
       "      <td>0.114034</td>\n",
       "      <td>0.156817</td>\n",
       "    </tr>\n",
       "    <tr>\n",
       "      <th>R20</th>\n",
       "      <td>0.582243</td>\n",
       "      <td>0.654264</td>\n",
       "      <td>0.614557</td>\n",
       "      <td>0.575804</td>\n",
       "      <td>0.611641</td>\n",
       "    </tr>\n",
       "  </tbody>\n",
       "</table>\n",
       "</div>"
      ],
      "text/plain": [
       "              W0        W1        W2        W3        W4\n",
       "T0 R0   0.146948  0.172382  0.142818  0.176636  0.084556\n",
       "   R1   0.299554  0.300073  0.250471  0.269025  0.305253\n",
       "   R2   0.220437  0.230414  0.157872  0.238351  0.131366\n",
       "   R3   0.147286  0.254737  0.209508  0.144524  0.189705\n",
       "   R4   0.281505  0.492236  0.459699  0.291380  0.355576\n",
       "   R5   0.120225  0.105813  0.101206  0.123896  0.111133\n",
       "   R6   0.135368  0.110012  0.116835  0.151438  0.117959\n",
       "T1 R7   0.214255  0.470424  0.218669  0.185633  0.173071\n",
       "   R8   0.349156  0.172141  0.193750  0.398963  0.196076\n",
       "   R9   0.234312  0.118096  0.187706  0.278884  0.256302\n",
       "   R10  0.421759  0.368402  0.465667  0.370497  0.288579\n",
       "   R11  0.277027  0.232005  0.302055  0.269430  0.377064\n",
       "   R12  0.149023  0.194643  0.159761  0.149140  0.208917\n",
       "   R13  0.106126  0.138213  0.113801  0.106593  0.149298\n",
       "T2 R14  0.163393  0.244517  0.205824  0.166053  0.206825\n",
       "   R15  0.120428  0.128697  0.126354  0.119082  0.108673\n",
       "   R16  0.279195  0.203598  0.295101  0.334165  0.186184\n",
       "   R17  0.119810  0.112095  0.105295  0.120177  0.121745\n",
       "   R18  0.253521  0.130298  0.197101  0.235095  0.370408\n",
       "   R19  0.116880  0.096969  0.126125  0.114034  0.156817\n",
       "   R20  0.582243  0.654264  0.614557  0.575804  0.611641"
      ]
     },
     "execution_count": 4,
     "metadata": {},
     "output_type": "execute_result"
    }
   ],
   "source": [
    "MyPlate.R"
   ]
  },
  {
   "cell_type": "code",
   "execution_count": 3,
   "metadata": {},
   "outputs": [
    {
     "data": {
      "image/png": "[encoded data removed]",
      "text/plain": [
       "<matplotlib.figure.Figure at 0x1a1d2a3e10>"
      ]
     },
     "metadata": {},
     "output_type": "display_data"
    }
   ],
   "source": [
    "from community_simulator.visualization import PlotTraj\n",
    "import matplotlib.pyplot as plt\n",
    "%matplotlib inline\n",
    "\n",
    "PlotTraj(Ntraj)\n",
    "plt.show()"
   ]
  },
  {
   "cell_type": "code",
   "execution_count": 5,
   "metadata": {},
   "outputs": [
    {
     "data": {
      "text/plain": [
       "W0    19\n",
       "W1    10\n",
       "W2     9\n",
       "W3    13\n",
       "W4    12\n",
       "dtype: int64"
      ]
     },
     "execution_count": 5,
     "metadata": {},
     "output_type": "execute_result"
    }
   ],
   "source": [
    "Ntraj,Rtraj = MyPlate.RunExperiment(np.eye(n_wells),5,500,refresh_resource=False,scale=1e6)\n",
    "(MyPlate.N>0).sum()"
   ]
  },
  {
   "cell_type": "code",
   "execution_count": 7,
   "metadata": {},
   "outputs": [
    {
     "data": {
      "text/plain": [
       "12.6"
      ]
     },
     "execution_count": 7,
     "metadata": {},
     "output_type": "execute_result"
    }
   ],
   "source": [
    "np.mean((MyPlate.N>0).sum())"
   ]
  },
  {
   "cell_type": "code",
   "execution_count": 6,
   "metadata": {},
   "outputs": [
    {
     "data": {
      "image/png": "[encoded data removed]",
      "text/plain": [
       "<matplotlib.figure.Figure at 0x1a1de6dd68>"
      ]
     },
     "metadata": {},
     "output_type": "display_data"
    }
   ],
   "source": [
    "from community_simulator.visualization import PlotTraj\n",
    "import matplotlib.pyplot as plt\n",
    "%matplotlib inline\n",
    "\n",
    "PlotTraj(Ntraj)\n",
    "plt.show()"
   ]
  },
  {
   "cell_type": "code",
   "execution_count": 20,
   "metadata": {},
   "outputs": [
    {
     "data": {
      "text/plain": [
       "F0     11.767288\n",
       "F1      1.227398\n",
       "F2      3.870024\n",
       "F3     12.822701\n",
       "GEN     2.798970\n",
       "dtype: float64"
      ]
     },
     "execution_count": 20,
     "metadata": {},
     "output_type": "execute_result"
    }
   ],
   "source": [
    "MyPlate.N.groupby(level=0).sum().mean(axis=1)"
   ]
  },
  {
   "cell_type": "code",
   "execution_count": 26,
   "metadata": {},
   "outputs": [
    {
     "data": {
      "image/png": "[encoded data removed]",
      "text/plain": [
       "<matplotlib.figure.Figure at 0x1a15c96f10>"
      ]
     },
     "metadata": {},
     "output_type": "display_data"
    }
   ],
   "source": [
    "sns.heatmap(MyPlate.N)\n",
    "plt.show()"
   ]
  },
  {
   "cell_type": "code",
   "execution_count": 22,
   "metadata": {},
   "outputs": [
    {
     "data": {
      "image/png": "[encoded data removed]",
      "text/plain": [
       "<matplotlib.figure.Figure at 0x1a16252110>"
      ]
     },
     "metadata": {},
     "output_type": "display_data"
    }
   ],
   "source": [
    "import seaborn as sns\n",
    "sns.heatmap(c)\n",
    "#sns.heatmap(c.loc[MyPlate.N['W4']>0])\n",
    "plt.show()"
   ]
  },
  {
   "cell_type": "code",
   "execution_count": 23,
   "metadata": {},
   "outputs": [
    {
     "data": {
      "image/png": "[encoded data removed]",
      "text/plain": [
       "<matplotlib.figure.Figure at 0x15142af090>"
      ]
     },
     "metadata": {},
     "output_type": "display_data"
    }
   ],
   "source": [
    "sns.heatmap(D)\n",
    "plt.show()"
   ]
  },
  {
   "cell_type": "code",
   "execution_count": null,
   "metadata": {
    "collapsed": true
   },
   "outputs": [],
   "source": []
  }
 ],
 "metadata": {
  "kernelspec": {
   "display_name": "Python 2",
   "language": "python",
   "name": "python2"
  },
  "language_info": {
   "codemirror_mode": {
    "name": "ipython",
    "version": 2
   },
   "file_extension": ".py",
   "mimetype": "text/x-python",
   "name": "python",
   "nbconvert_exporter": "python",
   "pygments_lexer": "ipython2",
   "version": "2.7.13"
  }
 },
 "nbformat": 4,
 "nbformat_minor": 2
}
