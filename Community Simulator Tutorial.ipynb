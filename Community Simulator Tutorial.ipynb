{
 "cells": [
  {
   "cell_type": "markdown",
   "metadata": {},
   "source": [
    "This notebook illustrates the main features of the Community Simulator package. "
   ]
  },
  {
   "cell_type": "markdown",
   "metadata": {},
   "source": [
    "# The Model"
   ]
  },
  {
   "cell_type": "markdown",
   "metadata": {},
   "source": [
    "The Community Simulator is an open-ended platform, which can incorporate any ODE model based on concentrations of consumers and resources. The only model currently implemented is the MacArthur Consumer Resource Model (CRM). In this model, the populations $N_i$ of $S$ distinct species and the concentrations $R_\\alpha$ of $M$ distinct resources evolve according to the following ODE's:\n",
    "\n",
    "\\begin{align}\n",
    "\\frac{dN_i}{dt} &= N_i\\left[ \\sum_\\beta c_{i\\beta}w_\\beta R_\\beta - m_i\\right]\\\\\n",
    "\\frac{dR_\\alpha}{dt} &= R_\\alpha\\left[ r_\\alpha(1-K_\\alpha^{-1}R_\\alpha) - \\sum_j c_{j\\alpha}N_j\\right].\n",
    "\\end{align}\n",
    "\n",
    "For the batch culture experiments this module is designed to simulate, there is no internal source of resource regeneration, and so $r_\\alpha$ will always be set to zero for all $\\alpha$. This makes $K_\\alpha$ irrelevant as well. \n",
    "\n",
    "For now, we will measure resource concentrations in units of biomass equivalent, so that $w_\\alpha = 1$. The remaining parameters $c_{i\\alpha}$ and $m_i$ will be explained in the following sections."
   ]
  },
  {
   "cell_type": "markdown",
   "metadata": {},
   "source": [
    "The file `models.py` holds the functions for calculation $dN_i/dt$ and $dR_\\alpha/dt$, and will include more complex models (including the Microbial CRM with crossfeeding) in future versions. The functions to be used for modeling a given experiment are loaded into a list, which will be passed as an argument when initializing an instance of the Community class:"
   ]
  },
  {
   "cell_type": "code",
   "execution_count": 1,
   "metadata": {
    "collapsed": true
   },
   "outputs": [],
   "source": [
    "from community_simulator.models import dNdt_CRM, dRdt_CRM\n",
    "\n",
    "dynamics = [dNdt_CRM,dRdt_CRM]"
   ]
  },
  {
   "cell_type": "markdown",
   "metadata": {},
   "source": [
    "## Load parameters from Excel"
   ]
  },
  {
   "cell_type": "markdown",
   "metadata": {},
   "source": [
    "Community Simulator is designed to work with Pandas, a powerful data science module that comes pre-installed with the Anaconda Python distribution. We can use Pandas to load in the parameters for our simulation from a Microsoft Excel spreadsheet. "
   ]
  },
  {
   "cell_type": "markdown",
   "metadata": {},
   "source": [
    "The Pandas syntax is very straightforward: you just feed the `read_excel` function the filename of the spreadsheet, and (if there are multiple sheets in the workbook) the name of the sheet you want to load. The workbook `test_data.xlsx` included with this distribution contains six sheets, with all the information required to run a simple experiment."
   ]
  },
  {
   "cell_type": "markdown",
   "metadata": {},
   "source": [
    "## Consumption Matrix"
   ]
  },
  {
   "cell_type": "markdown",
   "metadata": {},
   "source": [
    "Let's start by loading the consumption matrix $c_{i\\alpha}$, which is the heart of the MacArthur Consumer Resource Model (CRM) and all its variants:"
   ]
  },
  {
   "cell_type": "code",
   "execution_count": 2,
   "metadata": {},
   "outputs": [
    {
     "data": {
      "text/html": [
       "<div>\n",
       "<style>\n",
       "    .dataframe thead tr:only-child th {\n",
       "        text-align: right;\n",
       "    }\n",
       "\n",
       "    .dataframe thead th {\n",
       "        text-align: left;\n",
       "    }\n",
       "\n",
       "    .dataframe tbody tr th {\n",
       "        vertical-align: top;\n",
       "    }\n",
       "</style>\n",
       "<table border=\"1\" class=\"dataframe\">\n",
       "  <thead>\n",
       "    <tr style=\"text-align: right;\">\n",
       "      <th></th>\n",
       "      <th>Glutamine</th>\n",
       "      <th>Citrate</th>\n",
       "      <th>R2</th>\n",
       "      <th>R3</th>\n",
       "      <th>R4</th>\n",
       "      <th>R5</th>\n",
       "      <th>R6</th>\n",
       "      <th>R7</th>\n",
       "      <th>R8</th>\n",
       "    </tr>\n",
       "  </thead>\n",
       "  <tbody>\n",
       "    <tr>\n",
       "      <th>Enterobacter</th>\n",
       "      <td>1.000</td>\n",
       "      <td>0.001</td>\n",
       "      <td>0.01</td>\n",
       "      <td>0.01</td>\n",
       "      <td>0.01</td>\n",
       "      <td>0.01</td>\n",
       "      <td>0.01</td>\n",
       "      <td>0.01</td>\n",
       "      <td>0.01</td>\n",
       "    </tr>\n",
       "    <tr>\n",
       "      <th>Pseudomonas</th>\n",
       "      <td>0.001</td>\n",
       "      <td>0.990</td>\n",
       "      <td>0.01</td>\n",
       "      <td>0.01</td>\n",
       "      <td>0.01</td>\n",
       "      <td>0.01</td>\n",
       "      <td>0.01</td>\n",
       "      <td>0.01</td>\n",
       "      <td>0.01</td>\n",
       "    </tr>\n",
       "    <tr>\n",
       "      <th>Flavobacter</th>\n",
       "      <td>0.480</td>\n",
       "      <td>0.490</td>\n",
       "      <td>0.01</td>\n",
       "      <td>0.01</td>\n",
       "      <td>0.01</td>\n",
       "      <td>0.01</td>\n",
       "      <td>0.01</td>\n",
       "      <td>0.01</td>\n",
       "      <td>0.01</td>\n",
       "    </tr>\n",
       "    <tr>\n",
       "      <th>Enterococca</th>\n",
       "      <td>0.490</td>\n",
       "      <td>0.480</td>\n",
       "      <td>0.01</td>\n",
       "      <td>0.01</td>\n",
       "      <td>0.01</td>\n",
       "      <td>0.01</td>\n",
       "      <td>0.01</td>\n",
       "      <td>0.01</td>\n",
       "      <td>0.01</td>\n",
       "    </tr>\n",
       "  </tbody>\n",
       "</table>\n",
       "</div>"
      ],
      "text/plain": [
       "              Glutamine  Citrate    R2    R3    R4    R5    R6    R7    R8\n",
       "Enterobacter      1.000    0.001  0.01  0.01  0.01  0.01  0.01  0.01  0.01\n",
       "Pseudomonas       0.001    0.990  0.01  0.01  0.01  0.01  0.01  0.01  0.01\n",
       "Flavobacter       0.480    0.490  0.01  0.01  0.01  0.01  0.01  0.01  0.01\n",
       "Enterococca       0.490    0.480  0.01  0.01  0.01  0.01  0.01  0.01  0.01"
      ]
     },
     "execution_count": 2,
     "metadata": {},
     "output_type": "execute_result"
    }
   ],
   "source": [
    "import pandas as pd\n",
    "c = pd.read_excel('data/test_data.xlsx',sheetname='Consumption')\n",
    "c"
   ]
  },
  {
   "cell_type": "markdown",
   "metadata": {},
   "source": [
    "This matrix specifies the per capita consumption rate of each nutrient for each species. The vector of consumption rates is what defines a species for the purposes of the model. I have given the two primary carbon sources realistic names, and also supplied a low level of six \"unknown\" resources. (Note: These are not meant to be the actual consumption vectors for the four bacterial strains listed here; the only purpose of the names is to make clear that each row represents a distinct strain.)"
   ]
  },
  {
   "cell_type": "markdown",
   "metadata": {},
   "source": [
    "## Cost Vector"
   ]
  },
  {
   "cell_type": "markdown",
   "metadata": {},
   "source": [
    "The MacArthur CRM contains another important set of parameters, which are the minimal consumption rates $m_i$ required for survival. For this example, we will set all of them to be equal:"
   ]
  },
  {
   "cell_type": "code",
   "execution_count": 3,
   "metadata": {},
   "outputs": [
    {
     "data": {
      "text/html": [
       "<div>\n",
       "<style>\n",
       "    .dataframe thead tr:only-child th {\n",
       "        text-align: right;\n",
       "    }\n",
       "\n",
       "    .dataframe thead th {\n",
       "        text-align: left;\n",
       "    }\n",
       "\n",
       "    .dataframe tbody tr th {\n",
       "        vertical-align: top;\n",
       "    }\n",
       "</style>\n",
       "<table border=\"1\" class=\"dataframe\">\n",
       "  <thead>\n",
       "    <tr style=\"text-align: right;\">\n",
       "      <th></th>\n",
       "      <th>Cost</th>\n",
       "    </tr>\n",
       "  </thead>\n",
       "  <tbody>\n",
       "    <tr>\n",
       "      <th>Enterobacter</th>\n",
       "      <td>0.001</td>\n",
       "    </tr>\n",
       "    <tr>\n",
       "      <th>Pseudomonas</th>\n",
       "      <td>0.001</td>\n",
       "    </tr>\n",
       "    <tr>\n",
       "      <th>Flavobacter</th>\n",
       "      <td>0.001</td>\n",
       "    </tr>\n",
       "    <tr>\n",
       "      <th>Enterococca</th>\n",
       "      <td>0.001</td>\n",
       "    </tr>\n",
       "  </tbody>\n",
       "</table>\n",
       "</div>"
      ],
      "text/plain": [
       "               Cost\n",
       "Enterobacter  0.001\n",
       "Pseudomonas   0.001\n",
       "Flavobacter   0.001\n",
       "Enterococca   0.001"
      ]
     },
     "execution_count": 3,
     "metadata": {},
     "output_type": "execute_result"
    }
   ],
   "source": [
    "import pandas as pd\n",
    "m = pd.read_excel('data/test_data.xlsx',sheetname='Cost')\n",
    "m"
   ]
  },
  {
   "cell_type": "markdown",
   "metadata": {},
   "source": [
    "## Initial Conditions"
   ]
  },
  {
   "cell_type": "markdown",
   "metadata": {},
   "source": [
    "Now let's set the initial cell densities $N_i(0)$ in each wells of our example four-well plate:"
   ]
  },
  {
   "cell_type": "code",
   "execution_count": 4,
   "metadata": {},
   "outputs": [
    {
     "data": {
      "text/html": [
       "<div>\n",
       "<style>\n",
       "    .dataframe thead tr:only-child th {\n",
       "        text-align: right;\n",
       "    }\n",
       "\n",
       "    .dataframe thead th {\n",
       "        text-align: left;\n",
       "    }\n",
       "\n",
       "    .dataframe tbody tr th {\n",
       "        vertical-align: top;\n",
       "    }\n",
       "</style>\n",
       "<table border=\"1\" class=\"dataframe\">\n",
       "  <thead>\n",
       "    <tr style=\"text-align: right;\">\n",
       "      <th></th>\n",
       "      <th>well1</th>\n",
       "      <th>well2</th>\n",
       "      <th>well3</th>\n",
       "      <th>well4</th>\n",
       "    </tr>\n",
       "  </thead>\n",
       "  <tbody>\n",
       "    <tr>\n",
       "      <th>Enterobacter</th>\n",
       "      <td>0.01</td>\n",
       "      <td>0.00</td>\n",
       "      <td>0.01</td>\n",
       "      <td>0</td>\n",
       "    </tr>\n",
       "    <tr>\n",
       "      <th>Pseudomonas</th>\n",
       "      <td>0.01</td>\n",
       "      <td>0.00</td>\n",
       "      <td>0.00</td>\n",
       "      <td>0</td>\n",
       "    </tr>\n",
       "    <tr>\n",
       "      <th>Flavobacter</th>\n",
       "      <td>0.00</td>\n",
       "      <td>0.01</td>\n",
       "      <td>0.00</td>\n",
       "      <td>0</td>\n",
       "    </tr>\n",
       "    <tr>\n",
       "      <th>Enterococca</th>\n",
       "      <td>0.00</td>\n",
       "      <td>0.01</td>\n",
       "      <td>0.00</td>\n",
       "      <td>0</td>\n",
       "    </tr>\n",
       "  </tbody>\n",
       "</table>\n",
       "</div>"
      ],
      "text/plain": [
       "              well1  well2  well3  well4\n",
       "Enterobacter   0.01   0.00   0.01      0\n",
       "Pseudomonas    0.01   0.00   0.00      0\n",
       "Flavobacter    0.00   0.01   0.00      0\n",
       "Enterococca    0.00   0.01   0.00      0"
      ]
     },
     "execution_count": 4,
     "metadata": {},
     "output_type": "execute_result"
    }
   ],
   "source": [
    "N0 = pd.read_excel('data/test_data.xlsx',sheetname='Populations')\n",
    "N0"
   ]
  },
  {
   "cell_type": "markdown",
   "metadata": {},
   "source": [
    "I have kept one well empty for doing a coalescence experiment later on, and one well contains the \"champion\" from well1. When we perform serial dilution experiments later on, the absolute numbers of individuals will be important. By default, the density is measured in units of $10^9$ cells/well. \n",
    "\n",
    "Another sheet lists the initial concentrations of nutrients $R_\\alpha(0)$ in each well:"
   ]
  },
  {
   "cell_type": "code",
   "execution_count": 5,
   "metadata": {},
   "outputs": [
    {
     "data": {
      "text/html": [
       "<div>\n",
       "<style>\n",
       "    .dataframe thead tr:only-child th {\n",
       "        text-align: right;\n",
       "    }\n",
       "\n",
       "    .dataframe thead th {\n",
       "        text-align: left;\n",
       "    }\n",
       "\n",
       "    .dataframe tbody tr th {\n",
       "        vertical-align: top;\n",
       "    }\n",
       "</style>\n",
       "<table border=\"1\" class=\"dataframe\">\n",
       "  <thead>\n",
       "    <tr style=\"text-align: right;\">\n",
       "      <th></th>\n",
       "      <th>well1</th>\n",
       "      <th>well2</th>\n",
       "      <th>well3</th>\n",
       "      <th>well4</th>\n",
       "    </tr>\n",
       "  </thead>\n",
       "  <tbody>\n",
       "    <tr>\n",
       "      <th>Glutamine</th>\n",
       "      <td>1.0000</td>\n",
       "      <td>1.0000</td>\n",
       "      <td>1.0000</td>\n",
       "      <td>1.0000</td>\n",
       "    </tr>\n",
       "    <tr>\n",
       "      <th>Citrate</th>\n",
       "      <td>1.0000</td>\n",
       "      <td>1.0000</td>\n",
       "      <td>1.0000</td>\n",
       "      <td>1.0000</td>\n",
       "    </tr>\n",
       "    <tr>\n",
       "      <th>R2</th>\n",
       "      <td>0.0001</td>\n",
       "      <td>0.0001</td>\n",
       "      <td>0.0001</td>\n",
       "      <td>0.0001</td>\n",
       "    </tr>\n",
       "    <tr>\n",
       "      <th>R3</th>\n",
       "      <td>0.0001</td>\n",
       "      <td>0.0001</td>\n",
       "      <td>0.0001</td>\n",
       "      <td>0.0001</td>\n",
       "    </tr>\n",
       "    <tr>\n",
       "      <th>R4</th>\n",
       "      <td>0.0001</td>\n",
       "      <td>0.0001</td>\n",
       "      <td>0.0001</td>\n",
       "      <td>0.0001</td>\n",
       "    </tr>\n",
       "    <tr>\n",
       "      <th>R5</th>\n",
       "      <td>0.0001</td>\n",
       "      <td>0.0001</td>\n",
       "      <td>0.0001</td>\n",
       "      <td>0.0001</td>\n",
       "    </tr>\n",
       "    <tr>\n",
       "      <th>R6</th>\n",
       "      <td>0.0001</td>\n",
       "      <td>0.0001</td>\n",
       "      <td>0.0001</td>\n",
       "      <td>0.0001</td>\n",
       "    </tr>\n",
       "    <tr>\n",
       "      <th>R7</th>\n",
       "      <td>0.0001</td>\n",
       "      <td>0.0001</td>\n",
       "      <td>0.0001</td>\n",
       "      <td>0.0001</td>\n",
       "    </tr>\n",
       "    <tr>\n",
       "      <th>R8</th>\n",
       "      <td>0.0001</td>\n",
       "      <td>0.0001</td>\n",
       "      <td>0.0001</td>\n",
       "      <td>0.0001</td>\n",
       "    </tr>\n",
       "  </tbody>\n",
       "</table>\n",
       "</div>"
      ],
      "text/plain": [
       "            well1   well2   well3   well4\n",
       "Glutamine  1.0000  1.0000  1.0000  1.0000\n",
       "Citrate    1.0000  1.0000  1.0000  1.0000\n",
       "R2         0.0001  0.0001  0.0001  0.0001\n",
       "R3         0.0001  0.0001  0.0001  0.0001\n",
       "R4         0.0001  0.0001  0.0001  0.0001\n",
       "R5         0.0001  0.0001  0.0001  0.0001\n",
       "R6         0.0001  0.0001  0.0001  0.0001\n",
       "R7         0.0001  0.0001  0.0001  0.0001\n",
       "R8         0.0001  0.0001  0.0001  0.0001"
      ]
     },
     "execution_count": 5,
     "metadata": {},
     "output_type": "execute_result"
    }
   ],
   "source": [
    "R0 = pd.read_excel('data/test_data.xlsx',sheetname='Resources')\n",
    "R0"
   ]
  },
  {
   "cell_type": "markdown",
   "metadata": {},
   "source": [
    "These concentrations will be supplied to these wells every time we passage the cells. "
   ]
  },
  {
   "cell_type": "markdown",
   "metadata": {},
   "source": [
    "## Protocol"
   ]
  },
  {
   "cell_type": "markdown",
   "metadata": {},
   "source": [
    "The feature that really makes this Community Simulator package unique is the built-in passaging functionality. The Passage method takes as an argument a matrix $f$ like this one:"
   ]
  },
  {
   "cell_type": "code",
   "execution_count": 6,
   "metadata": {},
   "outputs": [
    {
     "data": {
      "text/html": [
       "<div>\n",
       "<style>\n",
       "    .dataframe thead tr:only-child th {\n",
       "        text-align: right;\n",
       "    }\n",
       "\n",
       "    .dataframe thead th {\n",
       "        text-align: left;\n",
       "    }\n",
       "\n",
       "    .dataframe tbody tr th {\n",
       "        vertical-align: top;\n",
       "    }\n",
       "</style>\n",
       "<table border=\"1\" class=\"dataframe\">\n",
       "  <thead>\n",
       "    <tr style=\"text-align: right;\">\n",
       "      <th></th>\n",
       "      <th>well1</th>\n",
       "      <th>well2</th>\n",
       "      <th>well3</th>\n",
       "      <th>well4</th>\n",
       "    </tr>\n",
       "  </thead>\n",
       "  <tbody>\n",
       "    <tr>\n",
       "      <th>well1 new</th>\n",
       "      <td>0.001</td>\n",
       "      <td>0.000</td>\n",
       "      <td>0.000</td>\n",
       "      <td>0.000</td>\n",
       "    </tr>\n",
       "    <tr>\n",
       "      <th>well2 new</th>\n",
       "      <td>0.000</td>\n",
       "      <td>0.001</td>\n",
       "      <td>0.000</td>\n",
       "      <td>0.000</td>\n",
       "    </tr>\n",
       "    <tr>\n",
       "      <th>well3 new</th>\n",
       "      <td>0.000</td>\n",
       "      <td>0.000</td>\n",
       "      <td>0.001</td>\n",
       "      <td>0.000</td>\n",
       "    </tr>\n",
       "    <tr>\n",
       "      <th>well4 new</th>\n",
       "      <td>0.000</td>\n",
       "      <td>0.000</td>\n",
       "      <td>0.000</td>\n",
       "      <td>0.001</td>\n",
       "    </tr>\n",
       "  </tbody>\n",
       "</table>\n",
       "</div>"
      ],
      "text/plain": [
       "           well1  well2  well3  well4\n",
       "well1 new  0.001  0.000  0.000  0.000\n",
       "well2 new  0.000  0.001  0.000  0.000\n",
       "well3 new  0.000  0.000  0.001  0.000\n",
       "well4 new  0.000  0.000  0.000  0.001"
      ]
     },
     "execution_count": 6,
     "metadata": {},
     "output_type": "execute_result"
    }
   ],
   "source": [
    "f_dilute = pd.read_excel('data/test_data.xlsx',sheetname='Dilute')\n",
    "f_dilute"
   ]
  },
  {
   "cell_type": "markdown",
   "metadata": {},
   "source": [
    "The matrix specifies what fraction of each well should be loaded into each of the fresh wells. This is where the absolute number of cells in each well becomes important, because the program always loads an integer number of cells of each species into the new wells, choosing these numbers by multinomial sampling.\n",
    "\n",
    "This particular matrix is a simple dilution protocol, taking 0.1% of each well and loading it into the corresponding well on the new plate. But we can also make more complicated protocols, like this one for performing a coalescence experiment: "
   ]
  },
  {
   "cell_type": "code",
   "execution_count": 7,
   "metadata": {},
   "outputs": [
    {
     "data": {
      "text/html": [
       "<div>\n",
       "<style>\n",
       "    .dataframe thead tr:only-child th {\n",
       "        text-align: right;\n",
       "    }\n",
       "\n",
       "    .dataframe thead th {\n",
       "        text-align: left;\n",
       "    }\n",
       "\n",
       "    .dataframe tbody tr th {\n",
       "        vertical-align: top;\n",
       "    }\n",
       "</style>\n",
       "<table border=\"1\" class=\"dataframe\">\n",
       "  <thead>\n",
       "    <tr style=\"text-align: right;\">\n",
       "      <th></th>\n",
       "      <th>well1</th>\n",
       "      <th>well2</th>\n",
       "      <th>well3</th>\n",
       "      <th>well4</th>\n",
       "    </tr>\n",
       "  </thead>\n",
       "  <tbody>\n",
       "    <tr>\n",
       "      <th>well1 new</th>\n",
       "      <td>0.001</td>\n",
       "      <td>0.000</td>\n",
       "      <td>0.000</td>\n",
       "      <td>0</td>\n",
       "    </tr>\n",
       "    <tr>\n",
       "      <th>well2 new</th>\n",
       "      <td>0.000</td>\n",
       "      <td>0.001</td>\n",
       "      <td>0.000</td>\n",
       "      <td>0</td>\n",
       "    </tr>\n",
       "    <tr>\n",
       "      <th>well3 new</th>\n",
       "      <td>0.001</td>\n",
       "      <td>0.001</td>\n",
       "      <td>0.000</td>\n",
       "      <td>0</td>\n",
       "    </tr>\n",
       "    <tr>\n",
       "      <th>well4 new</th>\n",
       "      <td>0.000</td>\n",
       "      <td>0.001</td>\n",
       "      <td>0.001</td>\n",
       "      <td>0</td>\n",
       "    </tr>\n",
       "  </tbody>\n",
       "</table>\n",
       "</div>"
      ],
      "text/plain": [
       "           well1  well2  well3  well4\n",
       "well1 new  0.001  0.000  0.000      0\n",
       "well2 new  0.000  0.001  0.000      0\n",
       "well3 new  0.001  0.001  0.000      0\n",
       "well4 new  0.000  0.001  0.001      0"
      ]
     },
     "execution_count": 7,
     "metadata": {},
     "output_type": "execute_result"
    }
   ],
   "source": [
    "f_mix = pd.read_excel('data/test_data.xlsx',sheetname='Mix')\n",
    "f_mix"
   ]
  },
  {
   "cell_type": "markdown",
   "metadata": {},
   "source": [
    "This performs a standard dilution in wells 1 and 2, but then mixes the contents of wells 1 and 2 in well 3, and mixes the \"champion\" of well1 with the well2 community in well4. We can also build matrices to simulate diffusion, mixing each well with its neighbors at each step. "
   ]
  },
  {
   "cell_type": "markdown",
   "metadata": {},
   "source": [
    "# The Community Class"
   ]
  },
  {
   "cell_type": "markdown",
   "metadata": {},
   "source": [
    "With all these variables loaded, we can now create an instance of the \"Community\" class. This instance will contain the current population levels and resource concentrations in each well, and also holds the equations and the parameters that define the model. "
   ]
  },
  {
   "cell_type": "code",
   "execution_count": 8,
   "metadata": {
    "collapsed": true
   },
   "outputs": [],
   "source": [
    "from community_simulator import Community\n",
    "import numpy as np\n",
    "from community_simulator.models import dNdt_CRM, dRdt_CRM\n",
    "import pandas as pd\n",
    "\n",
    "init_state = [pd.read_excel('data/test_data.xlsx',sheetname='Populations'),\n",
    "              pd.read_excel('data/test_data.xlsx',sheetname='Resources')]\n",
    "\n",
    "dynamics = [dNdt_CRM,dRdt_CRM]\n",
    "\n",
    "params={'c':pd.read_excel('data/test_data.xlsx',sheetname='Consumption'),\n",
    "        'm':pd.read_excel('data/test_data.xlsx',sheetname='Cost'),\n",
    "        'r':np.zeros(len(init_state[1])),\n",
    "        'Kinv':np.ones(len(init_state[1])),\n",
    "        'w':np.ones(len(init_state[1]))\n",
    "       }\n",
    "\n",
    "\n",
    "MyPlate = Community(init_state,dynamics,params,scale=10**9)"
   ]
  },
  {
   "cell_type": "markdown",
   "metadata": {},
   "source": [
    "\"Community\" takes three mandatory arguments for initialization: the initial state, the dynamics, and the parameters. There is also an option for adjusting the units of $N_i$, which are set by default to $10^9$/well. We can test whether things are working by following the population of a single well over time:"
   ]
  },
  {
   "cell_type": "code",
   "execution_count": 9,
   "metadata": {},
   "outputs": [
    {
     "data": {
      "image/png": "[encoded data removed]",
      "text/plain": [
       "<matplotlib.figure.Figure at 0x150a781518>"
      ]
     },
     "metadata": {},
     "output_type": "display_data"
    }
   ],
   "source": [
    "t, Ntraj, Rtraj = MyPlate.TestWell(T=10)"
   ]
  },
  {
   "cell_type": "markdown",
   "metadata": {},
   "source": [
    "The basic methods of the `Community` class are `Propagate`, which simply runs the model for a fixed amount of time, and `Passage`, which passages the cells to a fresh plate following the protocol matrix $f$ that is passed as an argument."
   ]
  },
  {
   "cell_type": "code",
   "execution_count": 10,
   "metadata": {},
   "outputs": [
    {
     "data": {
      "text/html": [
       "<div>\n",
       "<style>\n",
       "    .dataframe thead tr:only-child th {\n",
       "        text-align: right;\n",
       "    }\n",
       "\n",
       "    .dataframe thead th {\n",
       "        text-align: left;\n",
       "    }\n",
       "\n",
       "    .dataframe tbody tr th {\n",
       "        vertical-align: top;\n",
       "    }\n",
       "</style>\n",
       "<table border=\"1\" class=\"dataframe\">\n",
       "  <thead>\n",
       "    <tr style=\"text-align: right;\">\n",
       "      <th></th>\n",
       "      <th>well1</th>\n",
       "      <th>well2</th>\n",
       "      <th>well3</th>\n",
       "      <th>well4</th>\n",
       "    </tr>\n",
       "  </thead>\n",
       "  <tbody>\n",
       "    <tr>\n",
       "      <th>Enterobacter</th>\n",
       "      <td>1.000434</td>\n",
       "      <td>0.00000</td>\n",
       "      <td>1.005891</td>\n",
       "      <td>0.0</td>\n",
       "    </tr>\n",
       "    <tr>\n",
       "      <th>Pseudomonas</th>\n",
       "      <td>0.999945</td>\n",
       "      <td>0.00000</td>\n",
       "      <td>0.000000</td>\n",
       "      <td>0.0</td>\n",
       "    </tr>\n",
       "    <tr>\n",
       "      <th>Flavobacter</th>\n",
       "      <td>0.000000</td>\n",
       "      <td>0.99901</td>\n",
       "      <td>0.000000</td>\n",
       "      <td>0.0</td>\n",
       "    </tr>\n",
       "    <tr>\n",
       "      <th>Enterococca</th>\n",
       "      <td>0.000000</td>\n",
       "      <td>0.99901</td>\n",
       "      <td>0.000000</td>\n",
       "      <td>0.0</td>\n",
       "    </tr>\n",
       "  </tbody>\n",
       "</table>\n",
       "</div>"
      ],
      "text/plain": [
       "                 well1    well2     well3  well4\n",
       "Enterobacter  1.000434  0.00000  1.005891    0.0\n",
       "Pseudomonas   0.999945  0.00000  0.000000    0.0\n",
       "Flavobacter   0.000000  0.99901  0.000000    0.0\n",
       "Enterococca   0.000000  0.99901  0.000000    0.0"
      ]
     },
     "execution_count": 10,
     "metadata": {},
     "output_type": "execute_result"
    }
   ],
   "source": [
    "MyPlate.Propagate(10)\n",
    "MyPlate.N"
   ]
  },
  {
   "cell_type": "code",
   "execution_count": 11,
   "metadata": {},
   "outputs": [
    {
     "data": {
      "text/html": [
       "<div>\n",
       "<style>\n",
       "    .dataframe thead tr:only-child th {\n",
       "        text-align: right;\n",
       "    }\n",
       "\n",
       "    .dataframe thead th {\n",
       "        text-align: left;\n",
       "    }\n",
       "\n",
       "    .dataframe tbody tr th {\n",
       "        vertical-align: top;\n",
       "    }\n",
       "</style>\n",
       "<table border=\"1\" class=\"dataframe\">\n",
       "  <thead>\n",
       "    <tr style=\"text-align: right;\">\n",
       "      <th></th>\n",
       "      <th>well1</th>\n",
       "      <th>well2</th>\n",
       "      <th>well3</th>\n",
       "      <th>well4</th>\n",
       "    </tr>\n",
       "  </thead>\n",
       "  <tbody>\n",
       "    <tr>\n",
       "      <th>Enterobacter</th>\n",
       "      <td>0.001001</td>\n",
       "      <td>0.000000</td>\n",
       "      <td>0.001006</td>\n",
       "      <td>0.0</td>\n",
       "    </tr>\n",
       "    <tr>\n",
       "      <th>Pseudomonas</th>\n",
       "      <td>0.001000</td>\n",
       "      <td>0.000000</td>\n",
       "      <td>0.000000</td>\n",
       "      <td>0.0</td>\n",
       "    </tr>\n",
       "    <tr>\n",
       "      <th>Flavobacter</th>\n",
       "      <td>0.000000</td>\n",
       "      <td>0.000999</td>\n",
       "      <td>0.000000</td>\n",
       "      <td>0.0</td>\n",
       "    </tr>\n",
       "    <tr>\n",
       "      <th>Enterococca</th>\n",
       "      <td>0.000000</td>\n",
       "      <td>0.000999</td>\n",
       "      <td>0.000000</td>\n",
       "      <td>0.0</td>\n",
       "    </tr>\n",
       "  </tbody>\n",
       "</table>\n",
       "</div>"
      ],
      "text/plain": [
       "                 well1     well2     well3  well4\n",
       "Enterobacter  0.001001  0.000000  0.001006    0.0\n",
       "Pseudomonas   0.001000  0.000000  0.000000    0.0\n",
       "Flavobacter   0.000000  0.000999  0.000000    0.0\n",
       "Enterococca   0.000000  0.000999  0.000000    0.0"
      ]
     },
     "execution_count": 11,
     "metadata": {},
     "output_type": "execute_result"
    }
   ],
   "source": [
    "f_dilute = pd.read_excel('data/test_data.xlsx',sheetname='Dilute')\n",
    "MyPlate.Passage(f_dilute)\n",
    "MyPlate.N"
   ]
  },
  {
   "cell_type": "markdown",
   "metadata": {},
   "source": [
    "We can automatically run $n$ serial dilutions using protocol $f$ at fixed time intervals $T$ using the `RunExperiment` method:"
   ]
  },
  {
   "cell_type": "code",
   "execution_count": 12,
   "metadata": {},
   "outputs": [
    {
     "data": {
      "text/html": [
       "<div>\n",
       "<style>\n",
       "    .dataframe thead tr:only-child th {\n",
       "        text-align: right;\n",
       "    }\n",
       "\n",
       "    .dataframe thead th {\n",
       "        text-align: left;\n",
       "    }\n",
       "\n",
       "    .dataframe tbody tr th {\n",
       "        vertical-align: top;\n",
       "    }\n",
       "</style>\n",
       "<table border=\"1\" class=\"dataframe\">\n",
       "  <thead>\n",
       "    <tr style=\"text-align: right;\">\n",
       "      <th></th>\n",
       "      <th>well1</th>\n",
       "      <th>well2</th>\n",
       "      <th>well3</th>\n",
       "      <th>well4</th>\n",
       "    </tr>\n",
       "  </thead>\n",
       "  <tbody>\n",
       "    <tr>\n",
       "      <th>Enterobacter</th>\n",
       "      <td>0.952714</td>\n",
       "      <td>0.000000</td>\n",
       "      <td>0.956077</td>\n",
       "      <td>0.0</td>\n",
       "    </tr>\n",
       "    <tr>\n",
       "      <th>Pseudomonas</th>\n",
       "      <td>0.948011</td>\n",
       "      <td>0.000000</td>\n",
       "      <td>0.000000</td>\n",
       "      <td>0.0</td>\n",
       "    </tr>\n",
       "    <tr>\n",
       "      <th>Flavobacter</th>\n",
       "      <td>0.000000</td>\n",
       "      <td>0.936553</td>\n",
       "      <td>0.000000</td>\n",
       "      <td>0.0</td>\n",
       "    </tr>\n",
       "    <tr>\n",
       "      <th>Enterococca</th>\n",
       "      <td>0.000000</td>\n",
       "      <td>0.936468</td>\n",
       "      <td>0.000000</td>\n",
       "      <td>0.0</td>\n",
       "    </tr>\n",
       "  </tbody>\n",
       "</table>\n",
       "</div>"
      ],
      "text/plain": [
       "                 well1     well2     well3  well4\n",
       "Enterobacter  0.952714  0.000000  0.956077    0.0\n",
       "Pseudomonas   0.948011  0.000000  0.000000    0.0\n",
       "Flavobacter   0.000000  0.936553  0.000000    0.0\n",
       "Enterococca   0.000000  0.936468  0.000000    0.0"
      ]
     },
     "execution_count": 12,
     "metadata": {},
     "output_type": "execute_result"
    }
   ],
   "source": [
    "n = 10\n",
    "T = 10\n",
    "MyPlate.Propagate(T)\n",
    "Ntraj,Rtraj=MyPlate.RunExperiment(f_dilute,T,n)\n",
    "MyPlate.N"
   ]
  },
  {
   "cell_type": "markdown",
   "metadata": {},
   "source": [
    "Note that `RunExperiment` returns trajectory outputs `Ntraj` and `Rtraj`, which are multiindex dataframes:"
   ]
  },
  {
   "cell_type": "code",
   "execution_count": 13,
   "metadata": {},
   "outputs": [
    {
     "data": {
      "text/html": [
       "<div>\n",
       "<style>\n",
       "    .dataframe thead tr:only-child th {\n",
       "        text-align: right;\n",
       "    }\n",
       "\n",
       "    .dataframe thead th {\n",
       "        text-align: left;\n",
       "    }\n",
       "\n",
       "    .dataframe tbody tr th {\n",
       "        vertical-align: top;\n",
       "    }\n",
       "</style>\n",
       "<table border=\"1\" class=\"dataframe\">\n",
       "  <thead>\n",
       "    <tr style=\"text-align: right;\">\n",
       "      <th></th>\n",
       "      <th></th>\n",
       "      <th>Enterobacter</th>\n",
       "      <th>Pseudomonas</th>\n",
       "      <th>Flavobacter</th>\n",
       "      <th>Enterococca</th>\n",
       "    </tr>\n",
       "    <tr>\n",
       "      <th>Time</th>\n",
       "      <th>Well</th>\n",
       "      <th></th>\n",
       "      <th></th>\n",
       "      <th></th>\n",
       "      <th></th>\n",
       "    </tr>\n",
       "  </thead>\n",
       "  <tbody>\n",
       "    <tr>\n",
       "      <th rowspan=\"4\" valign=\"top\">0</th>\n",
       "      <th>well1</th>\n",
       "      <td>0.954808</td>\n",
       "      <td>0.950363</td>\n",
       "      <td>0.000000</td>\n",
       "      <td>0.000000</td>\n",
       "    </tr>\n",
       "    <tr>\n",
       "      <th>well2</th>\n",
       "      <td>0.000000</td>\n",
       "      <td>0.000000</td>\n",
       "      <td>0.939639</td>\n",
       "      <td>0.940535</td>\n",
       "    </tr>\n",
       "    <tr>\n",
       "      <th>well3</th>\n",
       "      <td>0.958222</td>\n",
       "      <td>0.000000</td>\n",
       "      <td>0.000000</td>\n",
       "      <td>0.000000</td>\n",
       "    </tr>\n",
       "    <tr>\n",
       "      <th>well4</th>\n",
       "      <td>0.000000</td>\n",
       "      <td>0.000000</td>\n",
       "      <td>0.000000</td>\n",
       "      <td>0.000000</td>\n",
       "    </tr>\n",
       "    <tr>\n",
       "      <th rowspan=\"4\" valign=\"top\">10</th>\n",
       "      <th>well1</th>\n",
       "      <td>0.952873</td>\n",
       "      <td>0.948054</td>\n",
       "      <td>0.000000</td>\n",
       "      <td>0.000000</td>\n",
       "    </tr>\n",
       "    <tr>\n",
       "      <th>well2</th>\n",
       "      <td>0.000000</td>\n",
       "      <td>0.000000</td>\n",
       "      <td>0.936649</td>\n",
       "      <td>0.936805</td>\n",
       "    </tr>\n",
       "    <tr>\n",
       "      <th>well3</th>\n",
       "      <td>0.956173</td>\n",
       "      <td>0.000000</td>\n",
       "      <td>0.000000</td>\n",
       "      <td>0.000000</td>\n",
       "    </tr>\n",
       "    <tr>\n",
       "      <th>well4</th>\n",
       "      <td>0.000000</td>\n",
       "      <td>0.000000</td>\n",
       "      <td>0.000000</td>\n",
       "      <td>0.000000</td>\n",
       "    </tr>\n",
       "    <tr>\n",
       "      <th rowspan=\"4\" valign=\"top\">20</th>\n",
       "      <th>well1</th>\n",
       "      <td>0.952799</td>\n",
       "      <td>0.947928</td>\n",
       "      <td>0.000000</td>\n",
       "      <td>0.000000</td>\n",
       "    </tr>\n",
       "    <tr>\n",
       "      <th>well2</th>\n",
       "      <td>0.000000</td>\n",
       "      <td>0.000000</td>\n",
       "      <td>0.936059</td>\n",
       "      <td>0.936989</td>\n",
       "    </tr>\n",
       "    <tr>\n",
       "      <th>well3</th>\n",
       "      <td>0.956081</td>\n",
       "      <td>0.000000</td>\n",
       "      <td>0.000000</td>\n",
       "      <td>0.000000</td>\n",
       "    </tr>\n",
       "    <tr>\n",
       "      <th>well4</th>\n",
       "      <td>0.000000</td>\n",
       "      <td>0.000000</td>\n",
       "      <td>0.000000</td>\n",
       "      <td>0.000000</td>\n",
       "    </tr>\n",
       "    <tr>\n",
       "      <th rowspan=\"4\" valign=\"top\">30</th>\n",
       "      <th>well1</th>\n",
       "      <td>0.952767</td>\n",
       "      <td>0.947953</td>\n",
       "      <td>0.000000</td>\n",
       "      <td>0.000000</td>\n",
       "    </tr>\n",
       "    <tr>\n",
       "      <th>well2</th>\n",
       "      <td>0.000000</td>\n",
       "      <td>0.000000</td>\n",
       "      <td>0.936165</td>\n",
       "      <td>0.936859</td>\n",
       "    </tr>\n",
       "    <tr>\n",
       "      <th>well3</th>\n",
       "      <td>0.956077</td>\n",
       "      <td>0.000000</td>\n",
       "      <td>0.000000</td>\n",
       "      <td>0.000000</td>\n",
       "    </tr>\n",
       "    <tr>\n",
       "      <th>well4</th>\n",
       "      <td>0.000000</td>\n",
       "      <td>0.000000</td>\n",
       "      <td>0.000000</td>\n",
       "      <td>0.000000</td>\n",
       "    </tr>\n",
       "    <tr>\n",
       "      <th rowspan=\"4\" valign=\"top\">40</th>\n",
       "      <th>well1</th>\n",
       "      <td>0.952723</td>\n",
       "      <td>0.948001</td>\n",
       "      <td>0.000000</td>\n",
       "      <td>0.000000</td>\n",
       "    </tr>\n",
       "    <tr>\n",
       "      <th>well2</th>\n",
       "      <td>0.000000</td>\n",
       "      <td>0.000000</td>\n",
       "      <td>0.935837</td>\n",
       "      <td>0.937185</td>\n",
       "    </tr>\n",
       "    <tr>\n",
       "      <th>well3</th>\n",
       "      <td>0.956077</td>\n",
       "      <td>0.000000</td>\n",
       "      <td>0.000000</td>\n",
       "      <td>0.000000</td>\n",
       "    </tr>\n",
       "    <tr>\n",
       "      <th>well4</th>\n",
       "      <td>0.000000</td>\n",
       "      <td>0.000000</td>\n",
       "      <td>0.000000</td>\n",
       "      <td>0.000000</td>\n",
       "    </tr>\n",
       "    <tr>\n",
       "      <th rowspan=\"4\" valign=\"top\">50</th>\n",
       "      <th>well1</th>\n",
       "      <td>0.952789</td>\n",
       "      <td>0.947929</td>\n",
       "      <td>0.000000</td>\n",
       "      <td>0.000000</td>\n",
       "    </tr>\n",
       "    <tr>\n",
       "      <th>well2</th>\n",
       "      <td>0.000000</td>\n",
       "      <td>0.000000</td>\n",
       "      <td>0.936247</td>\n",
       "      <td>0.936775</td>\n",
       "    </tr>\n",
       "    <tr>\n",
       "      <th>well3</th>\n",
       "      <td>0.956077</td>\n",
       "      <td>0.000000</td>\n",
       "      <td>0.000000</td>\n",
       "      <td>0.000000</td>\n",
       "    </tr>\n",
       "    <tr>\n",
       "      <th>well4</th>\n",
       "      <td>0.000000</td>\n",
       "      <td>0.000000</td>\n",
       "      <td>0.000000</td>\n",
       "      <td>0.000000</td>\n",
       "    </tr>\n",
       "    <tr>\n",
       "      <th rowspan=\"4\" valign=\"top\">60</th>\n",
       "      <th>well1</th>\n",
       "      <td>0.952741</td>\n",
       "      <td>0.947982</td>\n",
       "      <td>0.000000</td>\n",
       "      <td>0.000000</td>\n",
       "    </tr>\n",
       "    <tr>\n",
       "      <th>well2</th>\n",
       "      <td>0.000000</td>\n",
       "      <td>0.000000</td>\n",
       "      <td>0.936539</td>\n",
       "      <td>0.936482</td>\n",
       "    </tr>\n",
       "    <tr>\n",
       "      <th>well3</th>\n",
       "      <td>0.956077</td>\n",
       "      <td>0.000000</td>\n",
       "      <td>0.000000</td>\n",
       "      <td>0.000000</td>\n",
       "    </tr>\n",
       "    <tr>\n",
       "      <th>well4</th>\n",
       "      <td>0.000000</td>\n",
       "      <td>0.000000</td>\n",
       "      <td>0.000000</td>\n",
       "      <td>0.000000</td>\n",
       "    </tr>\n",
       "    <tr>\n",
       "      <th rowspan=\"4\" valign=\"top\">70</th>\n",
       "      <th>well1</th>\n",
       "      <td>0.952783</td>\n",
       "      <td>0.947935</td>\n",
       "      <td>0.000000</td>\n",
       "      <td>0.000000</td>\n",
       "    </tr>\n",
       "    <tr>\n",
       "      <th>well2</th>\n",
       "      <td>0.000000</td>\n",
       "      <td>0.000000</td>\n",
       "      <td>0.936519</td>\n",
       "      <td>0.936502</td>\n",
       "    </tr>\n",
       "    <tr>\n",
       "      <th>well3</th>\n",
       "      <td>0.956077</td>\n",
       "      <td>0.000000</td>\n",
       "      <td>0.000000</td>\n",
       "      <td>0.000000</td>\n",
       "    </tr>\n",
       "    <tr>\n",
       "      <th>well4</th>\n",
       "      <td>0.000000</td>\n",
       "      <td>0.000000</td>\n",
       "      <td>0.000000</td>\n",
       "      <td>0.000000</td>\n",
       "    </tr>\n",
       "    <tr>\n",
       "      <th rowspan=\"4\" valign=\"top\">80</th>\n",
       "      <th>well1</th>\n",
       "      <td>0.952743</td>\n",
       "      <td>0.947979</td>\n",
       "      <td>0.000000</td>\n",
       "      <td>0.000000</td>\n",
       "    </tr>\n",
       "    <tr>\n",
       "      <th>well2</th>\n",
       "      <td>0.000000</td>\n",
       "      <td>0.000000</td>\n",
       "      <td>0.936025</td>\n",
       "      <td>0.936997</td>\n",
       "    </tr>\n",
       "    <tr>\n",
       "      <th>well3</th>\n",
       "      <td>0.956077</td>\n",
       "      <td>0.000000</td>\n",
       "      <td>0.000000</td>\n",
       "      <td>0.000000</td>\n",
       "    </tr>\n",
       "    <tr>\n",
       "      <th>well4</th>\n",
       "      <td>0.000000</td>\n",
       "      <td>0.000000</td>\n",
       "      <td>0.000000</td>\n",
       "      <td>0.000000</td>\n",
       "    </tr>\n",
       "    <tr>\n",
       "      <th rowspan=\"4\" valign=\"top\">90</th>\n",
       "      <th>well1</th>\n",
       "      <td>0.952809</td>\n",
       "      <td>0.947907</td>\n",
       "      <td>0.000000</td>\n",
       "      <td>0.000000</td>\n",
       "    </tr>\n",
       "    <tr>\n",
       "      <th>well2</th>\n",
       "      <td>0.000000</td>\n",
       "      <td>0.000000</td>\n",
       "      <td>0.936637</td>\n",
       "      <td>0.936384</td>\n",
       "    </tr>\n",
       "    <tr>\n",
       "      <th>well3</th>\n",
       "      <td>0.956077</td>\n",
       "      <td>0.000000</td>\n",
       "      <td>0.000000</td>\n",
       "      <td>0.000000</td>\n",
       "    </tr>\n",
       "    <tr>\n",
       "      <th>well4</th>\n",
       "      <td>0.000000</td>\n",
       "      <td>0.000000</td>\n",
       "      <td>0.000000</td>\n",
       "      <td>0.000000</td>\n",
       "    </tr>\n",
       "    <tr>\n",
       "      <th rowspan=\"4\" valign=\"top\">100</th>\n",
       "      <th>well1</th>\n",
       "      <td>0.952714</td>\n",
       "      <td>0.948011</td>\n",
       "      <td>0.000000</td>\n",
       "      <td>0.000000</td>\n",
       "    </tr>\n",
       "    <tr>\n",
       "      <th>well2</th>\n",
       "      <td>0.000000</td>\n",
       "      <td>0.000000</td>\n",
       "      <td>0.936553</td>\n",
       "      <td>0.936468</td>\n",
       "    </tr>\n",
       "    <tr>\n",
       "      <th>well3</th>\n",
       "      <td>0.956077</td>\n",
       "      <td>0.000000</td>\n",
       "      <td>0.000000</td>\n",
       "      <td>0.000000</td>\n",
       "    </tr>\n",
       "    <tr>\n",
       "      <th>well4</th>\n",
       "      <td>0.000000</td>\n",
       "      <td>0.000000</td>\n",
       "      <td>0.000000</td>\n",
       "      <td>0.000000</td>\n",
       "    </tr>\n",
       "  </tbody>\n",
       "</table>\n",
       "</div>"
      ],
      "text/plain": [
       "            Enterobacter  Pseudomonas  Flavobacter  Enterococca\n",
       "Time Well                                                      \n",
       "0    well1      0.954808     0.950363     0.000000     0.000000\n",
       "     well2      0.000000     0.000000     0.939639     0.940535\n",
       "     well3      0.958222     0.000000     0.000000     0.000000\n",
       "     well4      0.000000     0.000000     0.000000     0.000000\n",
       "10   well1      0.952873     0.948054     0.000000     0.000000\n",
       "     well2      0.000000     0.000000     0.936649     0.936805\n",
       "     well3      0.956173     0.000000     0.000000     0.000000\n",
       "     well4      0.000000     0.000000     0.000000     0.000000\n",
       "20   well1      0.952799     0.947928     0.000000     0.000000\n",
       "     well2      0.000000     0.000000     0.936059     0.936989\n",
       "     well3      0.956081     0.000000     0.000000     0.000000\n",
       "     well4      0.000000     0.000000     0.000000     0.000000\n",
       "30   well1      0.952767     0.947953     0.000000     0.000000\n",
       "     well2      0.000000     0.000000     0.936165     0.936859\n",
       "     well3      0.956077     0.000000     0.000000     0.000000\n",
       "     well4      0.000000     0.000000     0.000000     0.000000\n",
       "40   well1      0.952723     0.948001     0.000000     0.000000\n",
       "     well2      0.000000     0.000000     0.935837     0.937185\n",
       "     well3      0.956077     0.000000     0.000000     0.000000\n",
       "     well4      0.000000     0.000000     0.000000     0.000000\n",
       "50   well1      0.952789     0.947929     0.000000     0.000000\n",
       "     well2      0.000000     0.000000     0.936247     0.936775\n",
       "     well3      0.956077     0.000000     0.000000     0.000000\n",
       "     well4      0.000000     0.000000     0.000000     0.000000\n",
       "60   well1      0.952741     0.947982     0.000000     0.000000\n",
       "     well2      0.000000     0.000000     0.936539     0.936482\n",
       "     well3      0.956077     0.000000     0.000000     0.000000\n",
       "     well4      0.000000     0.000000     0.000000     0.000000\n",
       "70   well1      0.952783     0.947935     0.000000     0.000000\n",
       "     well2      0.000000     0.000000     0.936519     0.936502\n",
       "     well3      0.956077     0.000000     0.000000     0.000000\n",
       "     well4      0.000000     0.000000     0.000000     0.000000\n",
       "80   well1      0.952743     0.947979     0.000000     0.000000\n",
       "     well2      0.000000     0.000000     0.936025     0.936997\n",
       "     well3      0.956077     0.000000     0.000000     0.000000\n",
       "     well4      0.000000     0.000000     0.000000     0.000000\n",
       "90   well1      0.952809     0.947907     0.000000     0.000000\n",
       "     well2      0.000000     0.000000     0.936637     0.936384\n",
       "     well3      0.956077     0.000000     0.000000     0.000000\n",
       "     well4      0.000000     0.000000     0.000000     0.000000\n",
       "100  well1      0.952714     0.948011     0.000000     0.000000\n",
       "     well2      0.000000     0.000000     0.936553     0.936468\n",
       "     well3      0.956077     0.000000     0.000000     0.000000\n",
       "     well4      0.000000     0.000000     0.000000     0.000000"
      ]
     },
     "execution_count": 13,
     "metadata": {},
     "output_type": "execute_result"
    }
   ],
   "source": [
    "Ntraj"
   ]
  },
  {
   "cell_type": "markdown",
   "metadata": {
    "collapsed": true
   },
   "source": [
    "# Run a little experiment"
   ]
  },
  {
   "cell_type": "markdown",
   "metadata": {},
   "source": [
    "Now let's use our mixing protocol to compare the performance of the \"champion\" of Well 1 with and without its \"friend\":"
   ]
  },
  {
   "cell_type": "code",
   "execution_count": 14,
   "metadata": {
    "collapsed": true
   },
   "outputs": [],
   "source": [
    "f_mix = pd.read_excel('data/test_data.xlsx',sheetname='Mix')\n",
    "MyPlate.Passage(f_mix)\n",
    "MyPlate.Propagate(T)\n",
    "Ntraj,Rtraj=MyPlate.RunExperiment(f_dilute,T,n)"
   ]
  },
  {
   "cell_type": "markdown",
   "metadata": {},
   "source": [
    "We can plot the trajectory using `PlotTraj` from the `visualization` submodule as `PlotTraj(Ntraj)`:"
   ]
  },
  {
   "cell_type": "code",
   "execution_count": 15,
   "metadata": {},
   "outputs": [
    {
     "data": {
      "image/png": "[encoded data removed]",
      "text/plain": [
       "<matplotlib.figure.Figure at 0x1512ed8940>"
      ]
     },
     "metadata": {},
     "output_type": "display_data"
    }
   ],
   "source": [
    "from community_simulator.visualization import PlotTraj\n",
    "import matplotlib.pyplot as plt\n",
    "%matplotlib inline\n",
    "PlotTraj(Ntraj,figsize=(5,5))\n",
    "plt.show()"
   ]
  },
  {
   "cell_type": "markdown",
   "metadata": {},
   "source": [
    "The four panels represent the four wells. Each color is a species, and the thickness of the colored bar at each dilution cycle is proportional to the population of that species at the end of that cycle. \n",
    "\n",
    "The first two panels are controls, which simply propagate the two initial communities (which I will call 'A' and 'B'). The third panel shows the result of invading B with all of A, as can be seen by the presence of all four colors. The fourth is the invasion by the \"champion\" alone, which is the blue Enterobacter.\n",
    "\n",
    "We can also visualize the final result in a bar plot with a legend, which may be easier to read:"
   ]
  },
  {
   "cell_type": "code",
   "execution_count": 16,
   "metadata": {},
   "outputs": [
    {
     "data": {
      "image/png": "[encoded data removed]",
      "text/plain": [
       "<matplotlib.figure.Figure at 0x150a8245f8>"
      ]
     },
     "metadata": {},
     "output_type": "display_data"
    }
   ],
   "source": [
    "from community_simulator.visualization import StackPlot\n",
    "import matplotlib.pyplot as plt\n",
    "%matplotlib inline\n",
    "MyPlate.N.T.plot.bar()\n",
    "plt.gca().set_title('Champion invasion from A to B')\n",
    "plt.gca().set_xticklabels(['A','B','With Friends','Alone'])\n",
    "plt.show()"
   ]
  },
  {
   "cell_type": "markdown",
   "metadata": {},
   "source": [
    "In this example (without crossfeeding), the champion does better when invading with his \"friend\" than he does alone. I contrived the example to have this result, by making the two species of community A almost perfect specialists, and those of B almost perfect generalists. If the consumer matrices for both communities had been drawn from the same probability distribution, it would have been very hard to achieve this result."
   ]
  },
  {
   "cell_type": "markdown",
   "metadata": {
    "collapsed": true
   },
   "source": [
    "# Crossfeeding"
   ]
  },
  {
   "cell_type": "markdown",
   "metadata": {},
   "source": [
    "The above examples were all run in the original MacArthur Consumer Resource Model, without crossfeeding. But the most interesting model predictions come from the addition of crossfeeding, via a metabolic matrix $D_{\\alpha \\beta}$ that says how much of resource $\\alpha$ is produced per unit of resource $\\beta$ consumed:\n",
    "\n",
    "\\begin{align}\n",
    "\\frac{dN_i}{dt} &= N_i \\left[ \\sum_\\beta (w_\\beta - \\sum_\\gamma D_{\\gamma \\beta}w_\\gamma)c_{i\\beta} R_\\beta - m_i\\right]\\\\\n",
    "\\frac{dR_\\alpha}{dt} &= R_\\alpha\\left[ r_\\alpha(1-K_\\alpha^{-1}R_\\alpha) - \\sum_j c_{j\\alpha}N_j\\right]+\\sum_{\\beta, j} D_{\\alpha \\beta}c_{j\\beta}N_j R_\\beta.\n",
    "\\end{align}"
   ]
  },
  {
   "cell_type": "markdown",
   "metadata": {},
   "source": [
    "The new form for the $N_i$ dynamics guarantees \"mass\" or \"energy\" conservation: consumption of a given resource can increase the growth rate only if the \"quality\" $w_\\alpha$ of the resource being consumed is greater than the sum of the qualities of the byproducts of consumption. The extra term in the resource dynamics is simply the mathematical translation of the definition of $D_{\\alpha\\beta}$ just stated. These dynamics are contained in the functions `dNdt_MCRM` and `dRdt_MCRM`:"
   ]
  },
  {
   "cell_type": "code",
   "execution_count": 19,
   "metadata": {
    "collapsed": true
   },
   "outputs": [],
   "source": [
    "from community_simulator.models import dNdt_MCRM, dRdt_MCRM\n",
    "crossfeeding_dynamics = [dNdt_MCRM,dRdt_MCRM]"
   ]
  },
  {
   "cell_type": "markdown",
   "metadata": {},
   "source": [
    "Let's generate a random metabolic matrix, requiring the maximum value to be small enough that none of the resources have negative effects (which would happen if the sum of $D_{\\alpha\\beta}w_\\beta$ exceeded $w_\\alpha$):"
   ]
  },
  {
   "cell_type": "code",
   "execution_count": 20,
   "metadata": {},
   "outputs": [
    {
     "data": {
      "text/html": [
       "<div>\n",
       "<style>\n",
       "    .dataframe thead tr:only-child th {\n",
       "        text-align: right;\n",
       "    }\n",
       "\n",
       "    .dataframe thead th {\n",
       "        text-align: left;\n",
       "    }\n",
       "\n",
       "    .dataframe tbody tr th {\n",
       "        vertical-align: top;\n",
       "    }\n",
       "</style>\n",
       "<table border=\"1\" class=\"dataframe\">\n",
       "  <thead>\n",
       "    <tr style=\"text-align: right;\">\n",
       "      <th></th>\n",
       "      <th>R0</th>\n",
       "      <th>R1</th>\n",
       "      <th>R2</th>\n",
       "      <th>R3</th>\n",
       "      <th>R4</th>\n",
       "      <th>R5</th>\n",
       "      <th>R6</th>\n",
       "      <th>R7</th>\n",
       "      <th>R8</th>\n",
       "      <th>R9</th>\n",
       "    </tr>\n",
       "  </thead>\n",
       "  <tbody>\n",
       "    <tr>\n",
       "      <th>R0</th>\n",
       "      <td>0.046624</td>\n",
       "      <td>0.089939</td>\n",
       "      <td>0.057258</td>\n",
       "      <td>0.068593</td>\n",
       "      <td>0.036967</td>\n",
       "      <td>0.089479</td>\n",
       "      <td>0.076629</td>\n",
       "      <td>0.007267</td>\n",
       "      <td>0.094142</td>\n",
       "      <td>0.066717</td>\n",
       "    </tr>\n",
       "    <tr>\n",
       "      <th>R1</th>\n",
       "      <td>0.024502</td>\n",
       "      <td>0.050996</td>\n",
       "      <td>0.034106</td>\n",
       "      <td>0.024988</td>\n",
       "      <td>0.071707</td>\n",
       "      <td>0.013053</td>\n",
       "      <td>0.011541</td>\n",
       "      <td>0.032248</td>\n",
       "      <td>0.028872</td>\n",
       "      <td>0.065992</td>\n",
       "    </tr>\n",
       "    <tr>\n",
       "      <th>R2</th>\n",
       "      <td>0.031433</td>\n",
       "      <td>0.071450</td>\n",
       "      <td>0.034080</td>\n",
       "      <td>0.062172</td>\n",
       "      <td>0.013150</td>\n",
       "      <td>0.015153</td>\n",
       "      <td>0.067260</td>\n",
       "      <td>0.094250</td>\n",
       "      <td>0.077286</td>\n",
       "      <td>0.067799</td>\n",
       "    </tr>\n",
       "    <tr>\n",
       "      <th>R3</th>\n",
       "      <td>0.012688</td>\n",
       "      <td>0.068248</td>\n",
       "      <td>0.028416</td>\n",
       "      <td>0.075388</td>\n",
       "      <td>0.035284</td>\n",
       "      <td>0.015801</td>\n",
       "      <td>0.089808</td>\n",
       "      <td>0.074794</td>\n",
       "      <td>0.079424</td>\n",
       "      <td>0.088007</td>\n",
       "    </tr>\n",
       "    <tr>\n",
       "      <th>R4</th>\n",
       "      <td>0.063820</td>\n",
       "      <td>0.040234</td>\n",
       "      <td>0.087277</td>\n",
       "      <td>0.058633</td>\n",
       "      <td>0.078026</td>\n",
       "      <td>0.069996</td>\n",
       "      <td>0.078576</td>\n",
       "      <td>0.085070</td>\n",
       "      <td>0.062415</td>\n",
       "      <td>0.013751</td>\n",
       "    </tr>\n",
       "    <tr>\n",
       "      <th>R5</th>\n",
       "      <td>0.024345</td>\n",
       "      <td>0.098860</td>\n",
       "      <td>0.080769</td>\n",
       "      <td>0.056366</td>\n",
       "      <td>0.018167</td>\n",
       "      <td>0.031282</td>\n",
       "      <td>0.074795</td>\n",
       "      <td>0.038698</td>\n",
       "      <td>0.009971</td>\n",
       "      <td>0.011410</td>\n",
       "    </tr>\n",
       "    <tr>\n",
       "      <th>R6</th>\n",
       "      <td>0.045156</td>\n",
       "      <td>0.009455</td>\n",
       "      <td>0.099944</td>\n",
       "      <td>0.043289</td>\n",
       "      <td>0.054806</td>\n",
       "      <td>0.030143</td>\n",
       "      <td>0.012411</td>\n",
       "      <td>0.067250</td>\n",
       "      <td>0.043159</td>\n",
       "      <td>0.012853</td>\n",
       "    </tr>\n",
       "    <tr>\n",
       "      <th>R7</th>\n",
       "      <td>0.054628</td>\n",
       "      <td>0.094086</td>\n",
       "      <td>0.045450</td>\n",
       "      <td>0.052560</td>\n",
       "      <td>0.089483</td>\n",
       "      <td>0.052119</td>\n",
       "      <td>0.081982</td>\n",
       "      <td>0.000410</td>\n",
       "      <td>0.060796</td>\n",
       "      <td>0.014436</td>\n",
       "    </tr>\n",
       "    <tr>\n",
       "      <th>R8</th>\n",
       "      <td>0.047723</td>\n",
       "      <td>0.067247</td>\n",
       "      <td>0.030498</td>\n",
       "      <td>0.055202</td>\n",
       "      <td>0.024483</td>\n",
       "      <td>0.054928</td>\n",
       "      <td>0.024811</td>\n",
       "      <td>0.068740</td>\n",
       "      <td>0.007876</td>\n",
       "      <td>0.049281</td>\n",
       "    </tr>\n",
       "    <tr>\n",
       "      <th>R9</th>\n",
       "      <td>0.093038</td>\n",
       "      <td>0.018400</td>\n",
       "      <td>0.044581</td>\n",
       "      <td>0.092512</td>\n",
       "      <td>0.092830</td>\n",
       "      <td>0.006908</td>\n",
       "      <td>0.003172</td>\n",
       "      <td>0.005347</td>\n",
       "      <td>0.085098</td>\n",
       "      <td>0.078339</td>\n",
       "    </tr>\n",
       "  </tbody>\n",
       "</table>\n",
       "</div>"
      ],
      "text/plain": [
       "          R0        R1        R2        R3        R4        R5        R6  \\\n",
       "R0  0.046624  0.089939  0.057258  0.068593  0.036967  0.089479  0.076629   \n",
       "R1  0.024502  0.050996  0.034106  0.024988  0.071707  0.013053  0.011541   \n",
       "R2  0.031433  0.071450  0.034080  0.062172  0.013150  0.015153  0.067260   \n",
       "R3  0.012688  0.068248  0.028416  0.075388  0.035284  0.015801  0.089808   \n",
       "R4  0.063820  0.040234  0.087277  0.058633  0.078026  0.069996  0.078576   \n",
       "R5  0.024345  0.098860  0.080769  0.056366  0.018167  0.031282  0.074795   \n",
       "R6  0.045156  0.009455  0.099944  0.043289  0.054806  0.030143  0.012411   \n",
       "R7  0.054628  0.094086  0.045450  0.052560  0.089483  0.052119  0.081982   \n",
       "R8  0.047723  0.067247  0.030498  0.055202  0.024483  0.054928  0.024811   \n",
       "R9  0.093038  0.018400  0.044581  0.092512  0.092830  0.006908  0.003172   \n",
       "\n",
       "          R7        R8        R9  \n",
       "R0  0.007267  0.094142  0.066717  \n",
       "R1  0.032248  0.028872  0.065992  \n",
       "R2  0.094250  0.077286  0.067799  \n",
       "R3  0.074794  0.079424  0.088007  \n",
       "R4  0.085070  0.062415  0.013751  \n",
       "R5  0.038698  0.009971  0.011410  \n",
       "R6  0.067250  0.043159  0.012853  \n",
       "R7  0.000410  0.060796  0.014436  \n",
       "R8  0.068740  0.007876  0.049281  \n",
       "R9  0.005347  0.085098  0.078339  "
      ]
     },
     "execution_count": 20,
     "metadata": {},
     "output_type": "execute_result"
    }
   ],
   "source": [
    "M = 10\n",
    "names = ['R'+str(k) for k in range(M)]\n",
    "D = pd.DataFrame(np.random.rand(M,M)/M,index=names,columns=names)\n",
    "D"
   ]
  },
  {
   "cell_type": "markdown",
   "metadata": {},
   "source": [
    "Note that none of the input parameters have to be dataframes, but it's convenient to use them for pedagogical purposes. Let's simulate batch culture in 5 wells, each containing about 50 species subsampled from a metacommunity of 500 species with random consumer matrices. We will supply 10 units of resource R0 in each fresh well, but none of the other resources."
   ]
  },
  {
   "cell_type": "code",
   "execution_count": 65,
   "metadata": {},
   "outputs": [
    {
     "data": {
      "image/png": "[encoded data removed]",
      "text/plain": [
       "<matplotlib.figure.Figure at 0x1a1768f320>"
      ]
     },
     "metadata": {},
     "output_type": "display_data"
    }
   ],
   "source": [
    "from community_simulator.usertools import BinaryRandomMatrix\n",
    "\n",
    "#Set experiment parameters\n",
    "S_tot = 500\n",
    "S_well = 50\n",
    "n_wells = 5\n",
    "\n",
    "#Compute probability of finding a given species in a given well\n",
    "p = S_well*1./S_tot\n",
    "\n",
    "#Create initial conditions\n",
    "N0 = BinaryRandomMatrix(S_tot,n_wells,p)*1e-3\n",
    "R0 = np.zeros((M,n_wells))\n",
    "R0[0] = S_well\n",
    "init_state = [N0,R0]\n",
    "\n",
    "#Create parameter set\n",
    "params={'c':np.random.rand(S_tot,M),\n",
    "        'm':np.ones(S_tot)*1e-3,\n",
    "        'r':np.zeros(M),\n",
    "        'Kinv':np.ones(M),\n",
    "        'w':np.ones(M),\n",
    "        'D':D\n",
    "       }\n",
    "\n",
    "\n",
    "MyPlate = Community(init_state,crossfeeding_dynamics,params,scale=10**9)\n",
    "\n",
    "t, Ntraj, Rtraj = MyPlate.TestWell(T=1)"
   ]
  },
  {
   "cell_type": "markdown",
   "metadata": {},
   "source": [
    "Note that the resources that were not added by hand start to accumulate around time 0.5, and then are consumed and drop back to zero."
   ]
  },
  {
   "cell_type": "markdown",
   "metadata": {},
   "source": [
    "Now let's run 30 dilution cycles and plot the composition after each cycle for all five wells:"
   ]
  },
  {
   "cell_type": "code",
   "execution_count": 66,
   "metadata": {},
   "outputs": [
    {
     "data": {
      "image/png": "[encoded data removed]",
      "text/plain": [
       "<matplotlib.figure.Figure at 0x1a1768f4e0>"
      ]
     },
     "metadata": {},
     "output_type": "display_data"
    }
   ],
   "source": [
    "f = np.eye(n_wells,n_wells)*1e-3\n",
    "N_traj, R_traj = MyPlate.RunExperiment(f,1,30)\n",
    "\n",
    "PlotTraj(N_traj,figsize=(10,20))\n",
    "plt.show()"
   ]
  },
  {
   "cell_type": "markdown",
   "metadata": {},
   "source": [
    "We see plenty of coexistence. To show that this coexistence is really due to crossfeeding, let's try turning off crossfeeding while keeping everything else the same, by using the old resource dynamics without the secretion term:"
   ]
  },
  {
   "cell_type": "code",
   "execution_count": 67,
   "metadata": {},
   "outputs": [
    {
     "data": {
      "image/png": "[encoded data removed]",
      "text/plain": [
       "<matplotlib.figure.Figure at 0x1a180054a8>"
      ]
     },
     "metadata": {},
     "output_type": "display_data"
    }
   ],
   "source": [
    "from community_simulator.models import dNdt_MCRM, dRdt_CRM\n",
    "\n",
    "MyPlate = Community(init_state,[dNdt_MCRM,dRdt_CRM],params,scale=10**9)\n",
    "\n",
    "t, Ntraj, Rtraj = MyPlate.TestWell(T=1)"
   ]
  },
  {
   "cell_type": "markdown",
   "metadata": {},
   "source": [
    "The first thing we note is that the species in Well 0 reach a much lower final abundance in a single round than they did when the byproducts were edible. The best grower makes it a little above 3 units here, but got over 6 with crossfeeding. "
   ]
  },
  {
   "cell_type": "markdown",
   "metadata": {},
   "source": [
    "If we now dilute for 30 cycles, we see that each well is well on its way to containing only a single species."
   ]
  },
  {
   "cell_type": "code",
   "execution_count": 68,
   "metadata": {},
   "outputs": [
    {
     "data": {
      "image/png": "[encoded data removed]",
      "text/plain": [
       "<matplotlib.figure.Figure at 0x1a18005630>"
      ]
     },
     "metadata": {},
     "output_type": "display_data"
    }
   ],
   "source": [
    "f = np.eye(n_wells,n_wells)*1e-3\n",
    "N_traj, R_traj = MyPlate.RunExperiment(f,1,30)\n",
    "PlotTraj(N_traj,figsize=(10,20))\n",
    "plt.show()"
   ]
  },
  {
   "cell_type": "markdown",
   "metadata": {},
   "source": [
    "We can run for another 30 cycles to confirm that the others really do die out:"
   ]
  },
  {
   "cell_type": "code",
   "execution_count": 69,
   "metadata": {},
   "outputs": [
    {
     "data": {
      "image/png": "[encoded data removed]",
      "text/plain": [
       "<matplotlib.figure.Figure at 0x1a1bd90e80>"
      ]
     },
     "metadata": {},
     "output_type": "display_data"
    }
   ],
   "source": [
    "N_traj, R_traj = MyPlate.RunExperiment(f,1,30)\n",
    "PlotTraj(N_traj,figsize=(10,20))\n",
    "plt.show()"
   ]
  },
  {
   "cell_type": "markdown",
   "metadata": {},
   "source": [
    "The only well where coexistence remains is the last one. This is because we happened to include two species out of the fifty in the initial inoculate that are almost identical in their consumption of the supplied resource:"
   ]
  },
  {
   "cell_type": "code",
   "execution_count": 77,
   "metadata": {},
   "outputs": [
    {
     "data": {
      "text/html": [
       "<div>\n",
       "<style>\n",
       "    .dataframe thead tr:only-child th {\n",
       "        text-align: right;\n",
       "    }\n",
       "\n",
       "    .dataframe thead th {\n",
       "        text-align: left;\n",
       "    }\n",
       "\n",
       "    .dataframe tbody tr th {\n",
       "        vertical-align: top;\n",
       "    }\n",
       "</style>\n",
       "<table border=\"1\" class=\"dataframe\">\n",
       "  <thead>\n",
       "    <tr style=\"text-align: right;\">\n",
       "      <th></th>\n",
       "      <th>W0</th>\n",
       "      <th>W1</th>\n",
       "      <th>W2</th>\n",
       "      <th>W3</th>\n",
       "      <th>W4</th>\n",
       "    </tr>\n",
       "  </thead>\n",
       "  <tbody>\n",
       "    <tr>\n",
       "      <th>S90</th>\n",
       "      <td>0.000000</td>\n",
       "      <td>0.000000</td>\n",
       "      <td>0.000000</td>\n",
       "      <td>18.325891</td>\n",
       "      <td>0.000000</td>\n",
       "    </tr>\n",
       "    <tr>\n",
       "      <th>S196</th>\n",
       "      <td>0.000000</td>\n",
       "      <td>0.000000</td>\n",
       "      <td>0.000000</td>\n",
       "      <td>0.000000</td>\n",
       "      <td>18.325857</td>\n",
       "    </tr>\n",
       "    <tr>\n",
       "      <th>S268</th>\n",
       "      <td>18.325862</td>\n",
       "      <td>0.000000</td>\n",
       "      <td>0.000000</td>\n",
       "      <td>0.000000</td>\n",
       "      <td>0.000000</td>\n",
       "    </tr>\n",
       "    <tr>\n",
       "      <th>S307</th>\n",
       "      <td>0.000000</td>\n",
       "      <td>18.325854</td>\n",
       "      <td>0.000000</td>\n",
       "      <td>0.000000</td>\n",
       "      <td>0.000000</td>\n",
       "    </tr>\n",
       "    <tr>\n",
       "      <th>S340</th>\n",
       "      <td>0.000000</td>\n",
       "      <td>0.000000</td>\n",
       "      <td>9.729007</td>\n",
       "      <td>0.000000</td>\n",
       "      <td>0.000000</td>\n",
       "    </tr>\n",
       "    <tr>\n",
       "      <th>S448</th>\n",
       "      <td>0.000000</td>\n",
       "      <td>0.000000</td>\n",
       "      <td>8.596854</td>\n",
       "      <td>0.000000</td>\n",
       "      <td>0.000000</td>\n",
       "    </tr>\n",
       "  </tbody>\n",
       "</table>\n",
       "</div>"
      ],
      "text/plain": [
       "             W0         W1        W2         W3         W4\n",
       "S90    0.000000   0.000000  0.000000  18.325891   0.000000\n",
       "S196   0.000000   0.000000  0.000000   0.000000  18.325857\n",
       "S268  18.325862   0.000000  0.000000   0.000000   0.000000\n",
       "S307   0.000000  18.325854  0.000000   0.000000   0.000000\n",
       "S340   0.000000   0.000000  9.729007   0.000000   0.000000\n",
       "S448   0.000000   0.000000  8.596854   0.000000   0.000000"
      ]
     },
     "execution_count": 77,
     "metadata": {},
     "output_type": "execute_result"
    }
   ],
   "source": [
    "MyPlate.N[MyPlate.N.sum(axis=1)>0.2]"
   ]
  },
  {
   "cell_type": "code",
   "execution_count": 80,
   "metadata": {},
   "outputs": [
    {
     "data": {
      "text/plain": [
       "array([ 0.99273313,  0.82076362,  0.64657381,  0.10168335,  0.22263259,\n",
       "        0.0195522 ,  0.84146996,  0.14110143,  0.13481778,  0.17668805])"
      ]
     },
     "execution_count": 80,
     "metadata": {},
     "output_type": "execute_result"
    }
   ],
   "source": [
    "params['c'][448]"
   ]
  },
  {
   "cell_type": "code",
   "execution_count": 81,
   "metadata": {},
   "outputs": [
    {
     "data": {
      "text/plain": [
       "array([ 0.99288898,  0.87810536,  0.4597112 ,  0.96229515,  0.18818614,\n",
       "        0.20966523,  0.50192047,  0.96455963,  0.54267308,  0.78169543])"
      ]
     },
     "execution_count": 81,
     "metadata": {},
     "output_type": "execute_result"
    }
   ],
   "source": [
    "params['c'][340]"
   ]
  },
  {
   "cell_type": "code",
   "execution_count": null,
   "metadata": {
    "collapsed": true
   },
   "outputs": [],
   "source": []
  }
 ],
 "metadata": {
  "kernelspec": {
   "display_name": "Python 3",
   "language": "python",
   "name": "python3"
  },
  "language_info": {
   "codemirror_mode": {
    "name": "ipython",
    "version": 3
   },
   "file_extension": ".py",
   "mimetype": "text/x-python",
   "name": "python",
   "nbconvert_exporter": "python",
   "pygments_lexer": "ipython3",
   "version": "3.6.2"
  }
 },
 "nbformat": 4,
 "nbformat_minor": 2
}
